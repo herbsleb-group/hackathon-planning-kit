{
 "cells": [
  {
   "cell_type": "markdown",
   "metadata": {},
   "source": [
    "# Publications markdown generator for academicpages\n",
    "\n",
    "Takes a TSV of publications with metadata and converts them for use with [academicpages.github.io](academicpages.github.io). This is an interactive Jupyter notebook ([see more info here](http://jupyter-notebook-beginner-guide.readthedocs.io/en/latest/what_is_jupyter.html)). The core python code is also in `publications.py`. Run either from the `markdown_generator` folder after replacing `publications.tsv` with one containing your data.\n",
    "\n",
    "TODO: Make this work with BibTex and other databases of citations, rather than Stuart's non-standard TSV format and citation style.\n"
   ]
  },
  {
   "cell_type": "markdown",
   "metadata": {},
   "source": [
    "## Data format\n",
    "\n",
    "The TSV needs to have the following columns: pub_date, title, venue, excerpt, citation, site_url, and paper_url, with a header at the top. \n",
    "\n",
    "- `excerpt` and `paper_url` can be blank, but the others must have values. \n",
    "- `pub_date` must be formatted as YYYY-MM-DD.\n",
    "- `url_slug` will be the descriptive part of the .md file and the permalink URL for the page about the paper. The .md file will be `YYYY-MM-DD-[url_slug].md` and the permalink will be `https://[yourdomain]/publications/YYYY-MM-DD-[url_slug]`\n",
    "\n",
    "This is how the raw file looks (it doesn't look pretty, use a spreadsheet or other program to edit and create)."
   ]
  },
  {
   "cell_type": "code",
   "execution_count": 1,
   "metadata": {},
   "outputs": [
    {
     "name": "stdout",
     "output_type": "stream",
     "text": [
      "pub_date\ttitle\tvenue\texcerpt\tcitation\turl_slug\tpaper_url\r",
      "\r\n",
      "2019-08-26\tTouched by the Hackathon: A Study on the Connection between Hackathon Participants and Start-Up Founders\tThe 2nd ACM SIGSOFT International Workshop on Software-Intensive Business: Start-ups, Platforms and Ecosystems\t\"Time-bounded events such as hackathons, code fests and others have become a global phenomenon. Entrepreneurial hackathons in particular have gained wide spread popularity because they come with the prospect to being the grounds where the next billion dollar enterprise is born. There is however limited insight into whether and how hackathons participants and start-up founders are connected beyond studies on singular events focusing on hackathons as a starting point for start-ups. To address this gap we conducted a study on a dataset covering 44 hackathons over three years and 489 start-ups in the North-Eastern European country of Estonia. Our findings indicate that hackathons are not always the start of an entrepreneurial endeavor but can also be useful through later stages as a means to develop future products, find future employees and others. The results presented in this paper are based on an initial analysis of this rich dataset and thus present the starting point of a larger study on the connection between the hackathon and start-up communities which is currently in planning.\"\t\"Alexander Nolte. 2019. Touched by the Hackathon: A Study on the Connection between Hackathon Participants and Start-Up Founders. In Proceedings of the 2nd ACM SIGSOFT International Workshop on Software-Intensive Business: Start-ups, Platforms and Ecosystems (IWSiB ’19), August 26, 2019, Tallinn, Estonia. ACM, New York, NY, USA, 6 pages. https://doi.org/10.1145/3340481.3342735\"\tSIGSOFT-workshop-nolte-2019\t\"https://eipapa.github.io/hackathon-planning-kit/files/SIGSOFT-workshop-nolte-2019.pdf\" \r",
      "\r\n",
      "2017-02-25\tHacking and Making at Time-Bounded Events: Current Trends and Next Steps in Research and Event Design\tCSCW'17\t\"Time-bounded collaborative events in which teams work together under intense time pressure are becoming increasingly popular. While hackathons, that is, competitive overnight coding events, are one of the more prevalent examples of this phenomenon, there are many more distinct event design variations for different audiences and with divergent aims, such as sprints, codefests, hack-days, edit-a-thons and so on. Taken together, these events offer new opportunities and challenges for cooperative work by affording explicit, predictable, time-bounded spaces for interdependent work and access to new audiences of collaborators. This one-day workshop brings together researchers interested in the phenomenon, experienced event organizers, and participants interested in running their own events to consolidate research to-date, share practical experiences, and understand what benefits different event variations may offer, how they may be applied in other contexts, and how insights from studying these events may contribute to CSCW knowledge.\"\t\"Filippova, A., Chapman, B., Geiger, R. S., Herbsleb, J. D., Kalyanasundaram, A., Trainer, E., ... & Stoltzfus, A. (2017, February). Hacking and making at time-bounded events: Current trends and next steps in research and event design. In <i>Companion of the 2017 ACM Conference on Computer Supported Cooperative Work and Social Computing (pp. 363-370)</i>. https://doi.org/10.1145/3022198.3022658\"\tCSCW-workshop-filippova-2017\thttp://eipapa.github.io/hackathon-planning-kit/files/CSCW-workshop-filippova-2017.pdf\r",
      "\r\n",
      "2018-01-04\tThe 2nd Workshop on Hacking and Making at Time-Bounded Events: Current Trends and Next Steps in Research and Event Design\tExtended Abstracts of the 2018 ACM CHI Conference on Human Factors in Computing Systems (ACM CHI'18)\t\"Hackathons or Hackathon-style events, describe increasingly popular time-bounded intensive events across different fields and sectors. Often cited examples of hackathons include the demanding overnight competitive coding events, but there are many design variations for different audiences and with divergent aims. They offer a new form of collaboration by affording explicit, predictable, time-bounded spaces for interdependent work and engaging with new audiences. This one-day workshop will bring together researchers, experienced event organizers, and practitioners to share and discuss their practical experiences. Empirical insights from studying these events may help position the CHI community to better study, plan and design hackathon-style events and socio-technical systems that support new modes of production and collaboration.\"\t\"Pe-Than, E.P.P., Herbsleb, J.D., Nolte, A., Gerber, E., Fiore-Gartland, B., Chapman, B., Moser, A., and Wilkins-Diehr, N. (2018). The 2nd Workshop on Hacking and Making at Time-Bounded Events: Current Trends and Next Steps in Research and Event Design. <i>In Extended Abstracts of the 2018 CHI Conference on Human Factors in Computing Systems (CHI EA'18), </i>paper W35, pp. 1-8. https://doi.org/10.1145/3170427.3170615 <br>http://eipapa.github.io/hackathon-planning-kit/files/CHI-workshop-2018.pdf\"\tCHI-workshop-2018\thttp://eipapa.github.io/hackathon-planning-kit/files/CHI-workshop-2018.pdf\r",
      "\r\n",
      "2018-01-09\tAn Analysis of the PEARC 2018 Science Gateways Community Institute Hackathon: Lessons Learned\tPractice & Experience in Advanced Research Computing Conference Series (PEARC'18)\t\"Science Gateways are web portals on which data, software, instruments, and computing resources provide users, and scientists streamlined workflows through dynamically coded frontends. These web portals allow scientist to focus on research with little to no need to utilize programmatic skills. Hackathons are time-bounded events in which collaborators intensely focus on a given subject or problem in an effort to generate solutions. Hackathon events provide opportunities for participants with diverse backgrounds, mixed specialties, and broad skill sets to interact in a manner that promotes disruptive solutions. Hackathons come in a variety of different forms and serve many different purposes. These purposes include developing resources, infrastructure, practices, and culture for a community. The Science Gateways Community Institute team proposed a hackathon to introduce students attending the PEARC 2018 conference, to the concepts of Science Gateways. The aim of the hackathon was to stimulate interest in Science Gateways while developing projects that were of value to researchers from different disciplines. They believed that PEARC would be an ideal venue for this type of event, due to the community of researchers, students, and practitioners from various disciplines that were interested and skilled in the high-performance computing field attending the conference. The Science Gateways Community Institute utilized a hackathon formatted event to provide students with an opportunity to collaborate and generate targeted skills while creating needed features for production web portals. The student participants included a group of 17 graduate and undergraduate students with predominately underrepresented minorities. The hackathon followed the PEARC 2018 conference held in Pittsburgh, PA. The science gateways targeted during the event were MyGeoHub (Purdue University), Cosmic2 (San Diego Supercomputing Center), and SimCCS (Indiana University) with associated mentors serving as subject matter experts. This poster presents organizational methods and technologies used to coordinate the international planning team, lessons learned during the event, and deliverables presented by the student teams.\"\t\"Powell, J., Hayden, L., Nolte, A., Herbsleb, J.D., Pe-Than, E.P.P., Wong, M., Kalyanam, R., Ellet, K., Pamidighantam, S., Traxler, K., and Cannon, A. (2018). An Analysis of the PEARC 2018 Science Gateways Community Institute Hackathon: Lessons Learned. <i>Poster presented at Gateways 2018 organized by the Science Gateways Community Institute (SGCI)</i>. https://doi.org/10.6084/m9.figshare.7070309.v2 <br>http://eipapa.github.io/hackathon-planning-kit/files/SGCI-poster-2018.pdf\"\tSGCI-poster-2018\thttp://eipapa.github.io/hackathon-planning-kit/files/SGCI-poster-2018.pdf\r",
      "\r\n",
      "2018-12-30\tTechnical Report for the 2nd Workshop on Hacking and Making at Time-Bounded Events.\tTechnical Report CMU-ISR-18-109\t\"In hackathons, small teams work together over a specified period of time to complete a project of interest. Such time-bounded hackathon-style events have become increasingly popular across different domains in recent years. Collegiate hackathons, just one of the many variants of hackathons, that are supported by the largest hackathon league (https://mlh.io/) alone attract over 65,000 participants among more than 200 events each year. Variously known as data dives, codefests, hack-days, sprints, edit-a-thons, mapathons, and so on, such events vary depending on different audiences and with divergent aims: for example, whether teams know each other beforehand, whether the event is structured as a competition with prizes, whether the event is open or requires membership or invitations, and whether the desired outcome is primarily a product innovation, learning a new skill, forming a community around a cause, solving a technical problem that requires intensive focus by a group, or just having fun. Taken together, hackathons offer new opportunities and challenges for collaboration by affording explicit, predictable, time-bounded spaces for collaborative work and engaging with new audiences. With the goal of discussing opportunities and challenges surrounding hackathons of different kinds, this one-day workshop brought together researchers, experienced event organizers, and practitioners to share and discuss their practical experiences. Empirical insights from studying these events may help position the CHI community to better study, plan and design hackathon-style events as socio-technical systems that support new modes of production and collaboration.\"\t\"Pe-Than, E.P.P., and Nolte, A. (Editors) (2018). The 2nd Workshop on Hacking and Making at Time-Bounded Events. <i>Technical Report CMU-ISR-18-109</i>, Carnegie Mellon University. http://eipapa.github.io/hackathon-planning-kit/files/ISR-techreport-2018.pdf <br>http://hackathon-workshop-2018.com\"\tISR-techreport-2018\thttp://eipapa.github.io/hackathon-planning-kit/files/ISR-techreport-2018.pdf\r",
      "\r\n"
     ]
    }
   ],
   "source": [
    "!cat ws-tech-reports.tsv"
   ]
  },
  {
   "cell_type": "markdown",
   "metadata": {},
   "source": [
    "## Import pandas\n",
    "\n",
    "We are using the very handy pandas library for dataframes."
   ]
  },
  {
   "cell_type": "code",
   "execution_count": 2,
   "metadata": {},
   "outputs": [],
   "source": [
    "import pandas as pd"
   ]
  },
  {
   "cell_type": "markdown",
   "metadata": {},
   "source": [
    "## Import TSV\n",
    "\n",
    "Pandas makes this easy with the read_csv function. We are using a TSV, so we specify the separator as a tab, or `\\t`.\n",
    "\n",
    "I found it important to put this data in a tab-separated values format, because there are a lot of commas in this kind of data and comma-separated values can get messed up. However, you can modify the import statement, as pandas also has read_excel(), read_json(), and others."
   ]
  },
  {
   "cell_type": "code",
   "execution_count": 3,
   "metadata": {
    "scrolled": false
   },
   "outputs": [
    {
     "data": {
      "text/html": [
       "<div>\n",
       "<style scoped>\n",
       "    .dataframe tbody tr th:only-of-type {\n",
       "        vertical-align: middle;\n",
       "    }\n",
       "\n",
       "    .dataframe tbody tr th {\n",
       "        vertical-align: top;\n",
       "    }\n",
       "\n",
       "    .dataframe thead th {\n",
       "        text-align: right;\n",
       "    }\n",
       "</style>\n",
       "<table border=\"1\" class=\"dataframe\">\n",
       "  <thead>\n",
       "    <tr style=\"text-align: right;\">\n",
       "      <th></th>\n",
       "      <th>pub_date</th>\n",
       "      <th>title</th>\n",
       "      <th>venue</th>\n",
       "      <th>excerpt</th>\n",
       "      <th>citation</th>\n",
       "      <th>url_slug</th>\n",
       "      <th>paper_url</th>\n",
       "    </tr>\n",
       "  </thead>\n",
       "  <tbody>\n",
       "    <tr>\n",
       "      <th>0</th>\n",
       "      <td>2019-08-26</td>\n",
       "      <td>Touched by the Hackathon: A Study on the Conne...</td>\n",
       "      <td>The 2nd ACM SIGSOFT International Workshop on ...</td>\n",
       "      <td>Time-bounded events such as hackathons, code f...</td>\n",
       "      <td>Alexander Nolte. 2019. Touched by the Hackatho...</td>\n",
       "      <td>SIGSOFT-workshop-nolte-2019</td>\n",
       "      <td>https://eipapa.github.io/hackathon-planning-ki...</td>\n",
       "    </tr>\n",
       "    <tr>\n",
       "      <th>1</th>\n",
       "      <td>2017-02-25</td>\n",
       "      <td>Hacking and Making at Time-Bounded Events: Cur...</td>\n",
       "      <td>CSCW'17</td>\n",
       "      <td>Time-bounded collaborative events in which tea...</td>\n",
       "      <td>Filippova, A., Chapman, B., Geiger, R. S., Her...</td>\n",
       "      <td>CSCW-workshop-filippova-2017</td>\n",
       "      <td>http://eipapa.github.io/hackathon-planning-kit...</td>\n",
       "    </tr>\n",
       "    <tr>\n",
       "      <th>2</th>\n",
       "      <td>2018-01-04</td>\n",
       "      <td>The 2nd Workshop on Hacking and Making at Time...</td>\n",
       "      <td>Extended Abstracts of the 2018 ACM CHI Confere...</td>\n",
       "      <td>Hackathons or Hackathon-style events, describe...</td>\n",
       "      <td>Pe-Than, E.P.P., Herbsleb, J.D., Nolte, A., Ge...</td>\n",
       "      <td>CHI-workshop-2018</td>\n",
       "      <td>http://eipapa.github.io/hackathon-planning-kit...</td>\n",
       "    </tr>\n",
       "    <tr>\n",
       "      <th>3</th>\n",
       "      <td>2018-01-09</td>\n",
       "      <td>An Analysis of the PEARC 2018 Science Gateways...</td>\n",
       "      <td>Practice &amp; Experience in Advanced Research Com...</td>\n",
       "      <td>Science Gateways are web portals on which data...</td>\n",
       "      <td>Powell, J., Hayden, L., Nolte, A., Herbsleb, J...</td>\n",
       "      <td>SGCI-poster-2018</td>\n",
       "      <td>http://eipapa.github.io/hackathon-planning-kit...</td>\n",
       "    </tr>\n",
       "    <tr>\n",
       "      <th>4</th>\n",
       "      <td>2018-12-30</td>\n",
       "      <td>Technical Report for the 2nd Workshop on Hacki...</td>\n",
       "      <td>Technical Report CMU-ISR-18-109</td>\n",
       "      <td>In hackathons, small teams work together over ...</td>\n",
       "      <td>Pe-Than, E.P.P., and Nolte, A. (Editors) (2018...</td>\n",
       "      <td>ISR-techreport-2018</td>\n",
       "      <td>http://eipapa.github.io/hackathon-planning-kit...</td>\n",
       "    </tr>\n",
       "  </tbody>\n",
       "</table>\n",
       "</div>"
      ],
      "text/plain": [
       "     pub_date                                              title  \\\n",
       "0  2019-08-26  Touched by the Hackathon: A Study on the Conne...   \n",
       "1  2017-02-25  Hacking and Making at Time-Bounded Events: Cur...   \n",
       "2  2018-01-04  The 2nd Workshop on Hacking and Making at Time...   \n",
       "3  2018-01-09  An Analysis of the PEARC 2018 Science Gateways...   \n",
       "4  2018-12-30  Technical Report for the 2nd Workshop on Hacki...   \n",
       "\n",
       "                                               venue  \\\n",
       "0  The 2nd ACM SIGSOFT International Workshop on ...   \n",
       "1                                            CSCW'17   \n",
       "2  Extended Abstracts of the 2018 ACM CHI Confere...   \n",
       "3  Practice & Experience in Advanced Research Com...   \n",
       "4                    Technical Report CMU-ISR-18-109   \n",
       "\n",
       "                                             excerpt  \\\n",
       "0  Time-bounded events such as hackathons, code f...   \n",
       "1  Time-bounded collaborative events in which tea...   \n",
       "2  Hackathons or Hackathon-style events, describe...   \n",
       "3  Science Gateways are web portals on which data...   \n",
       "4  In hackathons, small teams work together over ...   \n",
       "\n",
       "                                            citation  \\\n",
       "0  Alexander Nolte. 2019. Touched by the Hackatho...   \n",
       "1  Filippova, A., Chapman, B., Geiger, R. S., Her...   \n",
       "2  Pe-Than, E.P.P., Herbsleb, J.D., Nolte, A., Ge...   \n",
       "3  Powell, J., Hayden, L., Nolte, A., Herbsleb, J...   \n",
       "4  Pe-Than, E.P.P., and Nolte, A. (Editors) (2018...   \n",
       "\n",
       "                       url_slug  \\\n",
       "0   SIGSOFT-workshop-nolte-2019   \n",
       "1  CSCW-workshop-filippova-2017   \n",
       "2             CHI-workshop-2018   \n",
       "3              SGCI-poster-2018   \n",
       "4           ISR-techreport-2018   \n",
       "\n",
       "                                           paper_url  \n",
       "0  https://eipapa.github.io/hackathon-planning-ki...  \n",
       "1  http://eipapa.github.io/hackathon-planning-kit...  \n",
       "2  http://eipapa.github.io/hackathon-planning-kit...  \n",
       "3  http://eipapa.github.io/hackathon-planning-kit...  \n",
       "4  http://eipapa.github.io/hackathon-planning-kit...  "
      ]
     },
     "execution_count": 3,
     "metadata": {},
     "output_type": "execute_result"
    }
   ],
   "source": [
    "publications = pd.read_csv(\"ws-tech-reports.tsv\", sep=\"\\t\", header=0)\n",
    "publications\n"
   ]
  },
  {
   "cell_type": "markdown",
   "metadata": {},
   "source": [
    "## Escape special characters\n",
    "\n",
    "YAML is very picky about how it takes a valid string, so we are replacing single and double quotes (and ampersands) with their HTML encoded equivilents. This makes them look not so readable in raw format, but they are parsed and rendered nicely."
   ]
  },
  {
   "cell_type": "code",
   "execution_count": 4,
   "metadata": {},
   "outputs": [],
   "source": [
    "html_escape_table = {\n",
    "    \"&\": \"&amp;\",\n",
    "    '\"': \"&quot;\",\n",
    "    \"'\": \"&apos;\"\n",
    "    }\n",
    "\n",
    "def html_escape(text):\n",
    "    \"\"\"Produce entities within text.\"\"\"\n",
    "    return \"\".join(html_escape_table.get(c,c) for c in text)"
   ]
  },
  {
   "cell_type": "markdown",
   "metadata": {},
   "source": [
    "## Creating the markdown files\n",
    "\n",
    "This is where the heavy lifting is done. This loops through all the rows in the TSV dataframe, then starts to concatentate a big string (```md```) that contains the markdown for each type. It does the YAML metadata first, then does the description for the individual page."
   ]
  },
  {
   "cell_type": "code",
   "execution_count": 5,
   "metadata": {},
   "outputs": [],
   "source": [
    "import os\n",
    "for row, item in publications.iterrows():\n",
    "    \n",
    "    md_filename = str(item.pub_date) + \"-\" + item.url_slug + \".md\"\n",
    "    html_filename = str(item.pub_date) + \"-\" + item.url_slug\n",
    "    year = item.pub_date[:4]\n",
    "    \n",
    "    ## YAML variables\n",
    "    \n",
    "    md = \"---\\ntitle: \\\"\"   + item.title + '\"\\n'\n",
    "    md += \"\"\"collection: wsandtechreports\"\"\"\n",
    "    md += \"\"\"\\npermalink: /wsandtechreports/\"\"\" + html_filename\n",
    "    if len(str(item.excerpt)) > 5:\n",
    "        md += \"\\nexcerpt: '\" + html_escape(item.excerpt) + \"'\"\n",
    "    md += \"\\ndate: \" + str(item.pub_date) \n",
    "    md += \"\\nvenue: '\" + html_escape(item.venue) + \"'\"    \n",
    "#     if len(str(item.paper_url)) > 5:\n",
    "#         md += \"\\npaperurl: '\" + item.paper_url + \"'\"\n",
    "#     md += \"\\ncitation: '\" + html_escape(item.citation) + \"'\"\n",
    "    md += \"\\n---\"\n",
    "    \n",
    "    ## Markdown description for individual page\n",
    "        \n",
    "    if len(str(item.paper_url)) > 5:\n",
    "#         md += \"\\n[<span style=\\\"color: #c41e3a\\\">Download PDF here.</span>](\" + item.paper_url + \")\\n\"\n",
    "        md += \"\\n[Download PDF here.](\" + item.paper_url + \")\\n\"\n",
    "    if len(str(item.excerpt)) > 5:\n",
    "        md += \"\\n**Abstract**:\" + html_escape(item.excerpt) + \"\\n\"    \n",
    "#     md += \"\\nAbstract: \" + html_escape(item.description) + \"\\n\"\n",
    "    md += \"\\n**Recommended citation**: \" + item.citation\n",
    "    md_filename = os.path.basename(md_filename)\n",
    "    with open(\"../_wsandtechreports/\" + md_filename, 'w') as f:\n",
    "        f.write(md)"
   ]
  },
  {
   "cell_type": "markdown",
   "metadata": {},
   "source": [
    "These files are in the publications directory, one directory below where we're working from."
   ]
  },
  {
   "cell_type": "code",
   "execution_count": 6,
   "metadata": {},
   "outputs": [
    {
     "name": "stdout",
     "output_type": "stream",
     "text": [
      "2017-02-25-CSCW-workshop-filippova-2017.md\r\n",
      "2018-01-04-CHI-workshop-2018.md\r\n",
      "2018-01-09-SGCI-poster-2018.md\r\n",
      "2018-12-30-ISR-techreport-2018.md\r\n",
      "2019-08-26-SIGSOFT-workshop-nolte-2019.md\r\n"
     ]
    }
   ],
   "source": [
    "!ls ../_wsandtechreports/"
   ]
  },
  {
   "cell_type": "code",
   "execution_count": null,
   "metadata": {},
   "outputs": [],
   "source": [
    "!cat ../_publications/2009-10-01-paper-title-number-1.md"
   ]
  },
  {
   "cell_type": "code",
   "execution_count": null,
   "metadata": {},
   "outputs": [],
   "source": []
  },
  {
   "cell_type": "code",
   "execution_count": null,
   "metadata": {},
   "outputs": [],
   "source": []
  }
 ],
 "metadata": {
  "kernelspec": {
   "display_name": "Python 3",
   "language": "python",
   "name": "python3"
  },
  "language_info": {
   "codemirror_mode": {
    "name": "ipython",
    "version": 3
   },
   "file_extension": ".py",
   "mimetype": "text/x-python",
   "name": "python",
   "nbconvert_exporter": "python",
   "pygments_lexer": "ipython3",
   "version": "3.7.6"
  }
 },
 "nbformat": 4,
 "nbformat_minor": 1
}
