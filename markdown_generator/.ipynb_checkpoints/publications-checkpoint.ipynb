{
 "cells": [
  {
   "cell_type": "markdown",
   "metadata": {},
   "source": [
    "# Publications markdown generator for academicpages\n",
    "\n",
    "Takes a TSV of publications with metadata and converts them for use with [academicpages.github.io](academicpages.github.io). This is an interactive Jupyter notebook ([see more info here](http://jupyter-notebook-beginner-guide.readthedocs.io/en/latest/what_is_jupyter.html)). The core python code is also in `publications.py`. Run either from the `markdown_generator` folder after replacing `publications.tsv` with one containing your data.\n",
    "\n",
    "TODO: Make this work with BibTex and other databases of citations, rather than Stuart's non-standard TSV format and citation style.\n"
   ]
  },
  {
   "cell_type": "markdown",
   "metadata": {},
   "source": [
    "## Data format\n",
    "\n",
    "The TSV needs to have the following columns: pub_date, title, venue, excerpt, citation, site_url, and paper_url, with a header at the top. \n",
    "\n",
    "- `excerpt` and `paper_url` can be blank, but the others must have values. \n",
    "- `pub_date` must be formatted as YYYY-MM-DD.\n",
    "- `url_slug` will be the descriptive part of the .md file and the permalink URL for the page about the paper. The .md file will be `YYYY-MM-DD-[url_slug].md` and the permalink will be `https://[yourdomain]/publications/YYYY-MM-DD-[url_slug]`\n",
    "\n",
    "This is how the raw file looks (it doesn't look pretty, use a spreadsheet or other program to edit and create)."
   ]
  },
  {
   "cell_type": "code",
   "execution_count": 86,
   "metadata": {},
   "outputs": [
    {
     "name": "stdout",
     "output_type": "stream",
     "text": [
      "pub_date\ttitle\tvenue\texcerpt\tcitation\turl_slug\tpaper_url\r",
      "\r\n",
      "2018-07-11\tDesigning Corporate Hackathons with a Purpose\tIEEE Software\t\"In hackathons, small teams work together over a specified period of time to complete a project of interest. Hackathons have become increasingly popular as a means to surface and prototype innovative and creative ideas for products, but their impact often goes beyond product innovation. Based on our empirical studies of 10 hackathons held by scientific communities, a corporation, and universities as well as the review of published literature, we discuss that hackathons can be organized around goals such as enriching social networks, facilitating collaborative learning, and workforce development. We also discuss design choices that can scaffold the organization of hackathons and their trade-offs. Design choices include identifying a suitable mixture of attendee skills, the selection process for projects and teams, and whether to hold a competitive or collaborative event. Hackathons can achieve multiple goals if designed carefully.\"\t\"Pe-Than, E.P.P., Nolte, A., Filippova, A., Bird, C., Scallen, S., and Herbsleb, J.D. (2018). Designing Corporate Hackathons with a Purpose. <i>IEEE Software, 36</i> (1), pp. 15-22. https://doi.org/10.1109/MS.2018.290110547 http://eipapa.github.io/files/IEEESW-2018.pdf\"\tIEEESW-2018\thttp://eipapa.github.io/files/IEEESW-2018.pdf\r",
      "\r\n",
      "2017-06-05\tDoes it matter how you play? The effects of collaboration and competition among players of human computation games.\tJournal of the Association of Information Science and Technology (JASIST)\t\"Human computation games (HCGs) harness human intelligence through enjoyable gameplay to address computational problems that are beyond the power of computer programs but trivial for humans. With the popularity of crowdsourcing, different types of HCGs have been developed using various gameplay mechanics to attract online users to contribute outputs. Two commonly used mechanics are collaboration and competition. Yet there is little research examining whether HCGs perform better than nongame applications in terms of motivations and perceptions. Thus, this study investigates the effects of collaborative and competitive mechanics on intrinsic motivation and perceived output quality in mobile content sharing HCGs. Using a within_subjects experiment, 160 participants were recruited from 2 local universities. The findings suggest that the nongame application was perceived to yield better quality output than both HCGs, but the latter offered a greater satisfaction of motivational needs, which may motivate individuals to continue playing them. Taken together, the present findings inform researchers and designers of HCGs that games could serve as a motivator to encourage participation. However, the usefulness of HCGs may be dependent on how one can effectively manage the entertainment-output generation duality of such games. This article concludes by presenting implications, limitations, and future research directions.\"\t\"Pe-Than, E.P.P., Goh, D.H.-L., and Lee, C.S. (2017). Does it matter how you play? The effects of collaboration and competition among players of human computation games. <i>Journal of the Association for Information Science and Technology (JASIST), 68<i> (8), 1823-1835. https://doi.org/10.1002/asi.23863 http://eipapa.github.io/files/JASIST-2017.pdf\"\tJASIST-2017\thttp://eipapa.github.io/files/JASIST-2017.pdf\r",
      "\r\n",
      "2014-01-02\tA typology of human computation games: An analysis and a review of current games\tBehaviour and Information Technology(BIT)\t\"Human computation games (HCGs) utilise human intelligence for the purpose of problem solving through games. Recently, HCGs have increased in popularity within various application areas. A proper system of describing such games is necessary in order to obtain a better understanding of the current body of work and identify new opportunities for future research directions. To date, however, there is little research conducted in understanding how such games could be classified in a systematic manner. Past classification schemes rely either on quality or entertainment aspects of these games. In order to have a deeper understanding of such games, this study argues that they should be classified via different dimensions. As a starting point, this paper reviews existing literature on HCGs and then develops a typology consisting of 12 dimensions and related strategies. This typology provides a holistic view of HCGs, and provides a common understanding of the domain among researchers and designers. The typology will help researchers to better understand the nature and consequences of HCGs, and designers better identify strengths and weaknesses of different strategies for each dimension, thus facilitating the creation of entertaining and effective HCGs.\"\t\"Pe-Than, E.P.P., Goh, D.H.-L., and Lee, C.S. (2015). A typology of human computation games: An analysis and a review of current games. <i>Behaviour and Information Technology, 34<i>(8), 809-824. https://doi.org/10.1080/0144929X.2013.862304 http://eipapa.github.io/files/BIT-2014.pdf\"\tBIT-2014\thttp://eipapa.github.io/files/BIT-2014.pdf\r",
      "\r\n",
      "2014-07-01\tMaking work fun: Investigating antecedents of perceived enjoyment in human computation games for information sharing\tComputers in Human Behavior(BIT)\t\"The advent of online games, crowdsourcing, and user-generated content has led to the emergence of a new paradigm called the Human Computation Games (HCGs) which utilize games as a motivator to encourage users' participation in human computation. HCGs are different from games for pure entertainment which emphasize play and fun, rather than output generation. Therefore, research has yet to fully explore the factors underlying players' perception of HCG enjoyment. In this paper, we study the influence of motivational needs satisfaction and perceived output quality on perceived HCG enjoyment using a survey (N=205) of a location-based information sharing HCG called SPLASH, developed as part of our research. According to the results, perceived needs for autonomy, competence, and relatedness influence perceived enjoyment of HCGs, suggesting that HCGs that fulfill these three needs are more likely to be enjoyable, thereby encouraging players to make useful computations. The results also show that participants who perceive higher levels output relevancy report a greater level of enjoyment, indicating that HCGs that assist players in generating relevant outputs are more likely to be perceived as enjoyable.\"\t\"Pe-Than, E.P.P., Goh, D.H.-L., and Lee, C.S. (2014). Making work fun: Investigating antecedents of perceived enjoyment in human computation games for information sharing. <i>Computers in Human Behavior, 39 <i>(2014), 88-99. https://doi.org/10.1016/j.chb.2014.06.023 http://eipapa.github.io/files/CHB-2014.pdf\"\tCHB-2014\thttp://eipapa.github.io/files/CHB-2014.pdf\r",
      "\r\n",
      "2018-11-01\tYou Hacked and Now What?: - Exploring Outcomes of a Corporate Hackathon\tProceedings of the ACM on Human-Computer Interaction (PACMHCI, CSCW 2018)\t\"Time bounded events such as hackathons, data dives, codefests, hack-days, sprints or edit-a-thons have increasingly gained attention from practitioners and researchers. Existing research, however, has mainly focused on the event itself, while potential outcomes of hackathons have received limited attention. Furthermore, most research around hackathons focuses on collegiate or civic events. Research around hackathons internal to tech companies, which are nearly ubiquitous, and present significant organizational, cultural, and managerial challenges, remains scarce. In this paper we address this gap by presenting findings from a case study of five teams which participated in a large scale corporate hackathon. Most team members voiced their intentions to continue the projects their worked on during the hackathon, but those whose projects did get continued were characterized by meticulous preparation, a focus on executing a shared vision during the hackathon, extended dissemination activities afterwards and a fit to existing product lines. Such teams were led by individuals who perceived the hackathon as an opportunity to bring their idea to life and advance their careers, and who recruited teams who had a strong interest in the idea and in learning the skills necessary to contribute efficiently. Our analysis also revealed that individual team members perceived hackathon participation to have positive effects on their career parts, networks and skill development.\"\t\"Nolte, A., Pe-Than, E.P.P., Filippova, A., Bird, C., Scallen, S., and Herbsleb, J.D. (2018). You Hacked and Now What?: - Exploring Outcomes of a Corporate Hackathon. <i>In Proceedings of the ACM on Human Computer Interaction, 2 (CSCW'18), <i>Article 129, 23 pages. https://doi.org/10.1145/3274398 http://eipapa.github.io/files/CSCW-2018.pdf\"\tCSCW-2018\thttp://eipapa.github.io/files/CSCW-2018.pdf\r",
      "\r\n",
      "2019-03-13\tUnderstanding Hackathons for Science: Collaboration, Affordances, and Outcomes\tiConference 2019\t\"Nowadays, hackathons have become a popular way of bringing people together to engage in brief, intensive collaborative work. Despite being a brief activity, being collocated with team members and focused on a task—radical collocation—could improve collaboration of scientific software teams. Using a mixed-methods study of participants who attended two hackathons at Space Telescope Science Institute, we examined how hackathons can facilitate collaboration in scientific software teams which typically involve members from two different disciplines: science and software engineering. We found that hackathons created a focused interruption-free working environment in which team members were able to assess each other’s skills, focus together on a single project and leverage opportunities to exchange knowledge with other collocated participants, thereby allowing technical work to advance more efficiently. This study suggests “hacking” as a new and productive form of collaborative work in scientific software production.\"\t\"Pe-Than, E.P.P. and Herbsleb, J.D. (2019). Understanding Hackathons for Science: Collaboration, Affordances, and Outcomes. <i>In Taylor N., Christian-Lamb C., Martin M., Nardi B. (eds) Information in Contemporary Society, iConference'19. Lecture Notes in Computer Science, vol 11420 (iConference'19), <i>pp. 27-37. Springer, Cham. https://doi.org/10.1007/978-3-030-15742-5_3 http://eipapa.github.io/files/iConference-2019.pdf\"\tiConference-2019\thttp://eipapa.github.io/files/iConference-2019.pdf\r",
      "\r\n",
      "2018-10-01\tCollaborative Writing on GitHub: A Case Study of a Book Project\tCompanion of the 2018 ACM Conference on Computer Supported Cooperative Work and Social Computing (CSCW'18)\t\"Social coding platforms such as GitHub are increasingly becoming a digital workspace for the production of non-software digital artifacts. Since GitHub offers unique features that are different from traditional ways of collaborative writing, it is interesting to investigate how GitHub features are used for writing. In this paper, we present the preliminary findings of a mixed-methods, case study of collaboration practices in a GitHub book project. We found that the use of GitHub depended on task interdependence and audience participation. GitHub's direct push method was used to coordinate both loosely- and tightly-coupled work, with the latter requiring collaborators to follow socially-accepted conventions. The pull-based method was adopted once the project was released to the public. While face-to-face and online meetings were prominent in the early phases, GitHub's issues became instrumental for communication and project management in later phases. Our findings have implications for the design of collaborative writing tools.\"\t\"Pe-Than, E.P.P., Dabbish, L., and Herbsleb, J.D. (2018). Collaborative Writing on GitHub: A Case Study of a Book Project. <i>In Companion of the 2018 ACM Conference on Computer Supported Cooperative Work and Social Computing (CSCW’18), <i>pp. 305-308. https://doi.org/10.1145/3272973.3274083 http://eipapa.github.io/files/CSCW-abstract-2018.pdf\"\tCSCW-abstract-2018\thttp://eipapa.github.io/files/CSCW-abstract-2018.pdf\r",
      "\r\n",
      "2018-01-04\tThe 2nd Workshop on Hacking and Making at Time-Bounded Events: Current Trends and Next Steps in Research and Event Design\tExtended Abstracts of the 2018 CHI Conference on Human Factors in Computing Systems (CHI 2018)\t\"Hackathons or Hackathon-style events, describe increasingly popular time-bounded intensive events across different fields and sectors. Often cited examples of hackathons include the demanding overnight competitive coding events, but there are many design variations for different audiences and with divergent aims. They offer a new form of collaboration by affording explicit, predictable, time-bounded spaces for interdependent work and engaging with new audiences. This one-day workshop will bring together researchers, experienced event organizers, and practitioners to share and discuss their practical experiences. Empirical insights from studying these events may help position the CHI community to better study, plan and design hackathon-style events and socio-technical systems that support new modes of production and collaboration.\"\t\"Pe-Than, E.P.P., Herbsleb, J.D., Nolte, A., Gerber, E., Fiore-Gartland, B., Chapman, B., Moser, A., and Wilkins-Diehr, N. (2018). The 2nd Workshop on Hacking and Making at Time-Bounded Events: Current Trends and Next Steps in Research and Event Design. <i>In Extended Abstracts of the 2018 CHI Conference on Human Factors in Computing Systems (CHI EA'18), <i>paper W35, pp. 1-8. https://doi.org/10.1145/3170427.3170615 http://eipapa.github.io/files/CHI-workshop-2018.pdf\"\tCHI-workshop-2018\thttp://eipapa.github.io/files/CHI-workshop-2018.pdf\r",
      "\r\n",
      "2019-01-01\tHackathons for Science, How and Why?\t233rd Meeting of the American Astronomical Society (AAS Meeting #233)\t\"Based on our empirical studies of 14 hackathons held by a corporation (Microsoft OneWeek Hackathon), universities, and scientific communities including three hack days at Space Telescope Science Institute (STScI), we will present how hackathons can be designed to achieve specific goals in a semi-academic environment like STScI. Our recommendations are derived from the analysis of data collected through ethnographic observations, interviews, and questionnaires. Hackathons are not only a good way to foster innovation but also to provide learning and knowledge exchange opportunities, to create new and enhance existing social connections, to exercise new technical and leadership opportunities, and to get the needed work done or to make a quick progress on technical work. However, designing a hackathon involves careful upfront planning, project selection, team formation, goal setting, and follow-up activities. Before the hackathon, the organizers should ask potential participants to propose project ideas (e.g., highest priority needed work in the case of STScI), and elicit their skills, expertise, and project preference. The organizers should form teams by matching participants' skills to required skills for the projects. The resulting teams consist of a mix of members with varying levels of expertise. It is advisable for teams to perform preparatory work which includes appointing a team lead and having pre-event meetings where they discuss their plan for the event, break the projects into small individual tasks, assign tasks to team members, and familiarize themselves with the environment, project, and task. The organizers should advise teams to set realistic goals for the event and keep track of their progress toward these goals. At the end of the event, the organizers should advise teams to present their accomplishment and future plans, and encourage them to plan for future collaboration and designate a person to keep track of the progress. Examples include using the common free time to work side-by-side and self-organizing mini-hackathons (e.g., lunch hacks). With careful consideration of activities mentioned above, hackathons may provide a fruitful avenue of collaboration between astronomers and software experts.\"\t\"Pe-Than, E.P.P., Momcheva, I., Tollerud, E., and Herbsleb, J.D. (2019). Hackathons for Science, How and Why? Poster presented at the 233rd Meeting of the American Astronomical Society, AAS Meeting #233, id.459.11. https://ui.adsabs.harvard.edu/abs/2019AAS...23345911P/abstract http://eipapa.github.io/files/AAS-poster-2019.pdf\"\tAAS-poster-2019\thttp://eipapa.github.io/files/AAS-poster-2019.pdf\r",
      "\r\n",
      "2018-01-09\tAn Analysis of the PEARC 2018 Science Gateways Community Institute Hackathon: Lessons Learned\tPractice & Experience in Advanced Research Computing Conference Series (PEARC 2018)\t\"Science Gateways are web portals on which data, software, instruments, and computing resources provide users, and scientists streamlined workflows through dynamically coded frontends. These web portals allow scientist to focus on research with little to no need to utilize programmatic skills. Hackathons are time-bounded events in which collaborators intensely focus on a given subject or problem in an effort to generate solutions. Hackathon events provide opportunities for participants with diverse backgrounds, mixed specialties, and broad skill sets to interact in a manner that promotes disruptive solutions. Hackathons come in a variety of different forms and serve many different purposes. These purposes include developing resources, infrastructure, practices, and culture for a community. The Science Gateways Community Institute team proposed a hackathon to introduce students attending the PEARC 2018 conference, to the concepts of Science Gateways. The aim of the hackathon was to stimulate interest in Science Gateways while developing projects that were of value to researchers from different disciplines. They believed that PEARC would be an ideal venue for this type of event, due to the community of researchers, students, and practitioners from various disciplines that were interested and skilled in the high-performance computing field attending the conference. The Science Gateways Community Institute utilized a hackathon formatted event to provide students with an opportunity to collaborate and generate targeted skills while creating needed features for production web portals. The student participants included a group of 17 graduate and undergraduate students with predominately underrepresented minorities. The hackathon followed the PEARC 2018 conference held in Pittsburgh, PA. The science gateways targeted during the event were MyGeoHub (Purdue University), Cosmic2 (San Diego Supercomputing Center), and SimCCS (Indiana University) with associated mentors serving as subject matter experts. This poster presents organizational methods and technologies used to coordinate the international planning team, lessons learned during the event, and deliverables presented by the student teams.\"\t\"Powell, J., Hayden, L., Nolte, A., Herbsleb, J.D., Pe-Than, E.P.P., Wong, M., Kalyanam, R., Ellet, K., Pamidighantam, S., Traxler, K., and Cannon, A. (2018). An Analysis of the PEARC 2018 Science Gateways Community Institute Hackathon: Lessons Learned. <i>Poster presented at Gateways 2018 organized by the Science Gateways Community Institute (SGCI)<i>. https://doi.org/10.6084/m9.figshare.7070309.v2 http://eipapa.github.io/files/SGCI-poster-2018.pdf\"\tSGCI-poster-2018\thttp://eipapa.github.io/files/SGCI-poster-2018.pdf\r",
      "\r\n",
      "2018-12-30\tThe 2nd Workshop on Hacking and Making at Time-Bounded Events.\tTechnical Report CMU-ISR-18-109\t\"In hackathons, small teams work together over a specified period of time to complete a project of interest. Such time-bounded hackathon-style events have become increasingly popular across different domains in recent years. Collegiate hackathons, just one of the many variants of hackathons, that are supported by the largest hackathon league (https://mlh.io/) alone attract over 65,000 participants among more than 200 events each year. Variously known as data dives, codefests, hack-days, sprints, edit-a-thons, mapathons, and so on, such events vary depending on different audiences and with divergent aims: for example, whether teams know each other beforehand, whether the event is structured as a competition with prizes, whether the event is open or requires membership or invitations, and whether the desired outcome is primarily a product innovation, learning a new skill, forming a community around a cause, solving a technical problem that requires intensive focus by a group, or just having fun. Taken together, hackathons offer new opportunities and challenges for collaboration by affording explicit, predictable, time-bounded spaces for collaborative work and engaging with new audiences. With the goal of discussing opportunities and challenges surrounding hackathons of different kinds, this one-day workshop brought together researchers, experienced event organizers, and practitioners to share and discuss their practical experiences. Empirical insights from studying these events may help position the CHI community to better study, plan and design hackathon-style events as socio-technical systems that support new modes of production and collaboration.\"\t\"Pe-Than, E.P.P., and Nolte, A. (Editors) (2018). The 2nd Workshop on Hacking and Making at Time-Bounded Events. Technical Report CMU-ISR-18-109, Carnegie Mellon University. http://eipapa.github.io/files/ISR-techreport-2018.pdf\"\tISR-techreport-2018\thttp://eipapa.github.io/files/ISR-techreport-2018.pdf\r",
      "\r\n"
     ]
    }
   ],
   "source": [
    "!cat publications.tsv"
   ]
  },
  {
   "cell_type": "markdown",
   "metadata": {},
   "source": [
    "## Import pandas\n",
    "\n",
    "We are using the very handy pandas library for dataframes."
   ]
  },
  {
   "cell_type": "code",
   "execution_count": 87,
   "metadata": {},
   "outputs": [],
   "source": [
    "import pandas as pd"
   ]
  },
  {
   "cell_type": "markdown",
   "metadata": {},
   "source": [
    "## Import TSV\n",
    "\n",
    "Pandas makes this easy with the read_csv function. We are using a TSV, so we specify the separator as a tab, or `\\t`.\n",
    "\n",
    "I found it important to put this data in a tab-separated values format, because there are a lot of commas in this kind of data and comma-separated values can get messed up. However, you can modify the import statement, as pandas also has read_excel(), read_json(), and others."
   ]
  },
  {
   "cell_type": "code",
   "execution_count": 88,
   "metadata": {
    "scrolled": false
   },
   "outputs": [
    {
     "data": {
      "text/html": [
       "<div>\n",
       "<style scoped>\n",
       "    .dataframe tbody tr th:only-of-type {\n",
       "        vertical-align: middle;\n",
       "    }\n",
       "\n",
       "    .dataframe tbody tr th {\n",
       "        vertical-align: top;\n",
       "    }\n",
       "\n",
       "    .dataframe thead th {\n",
       "        text-align: right;\n",
       "    }\n",
       "</style>\n",
       "<table border=\"1\" class=\"dataframe\">\n",
       "  <thead>\n",
       "    <tr style=\"text-align: right;\">\n",
       "      <th></th>\n",
       "      <th>pub_date</th>\n",
       "      <th>title</th>\n",
       "      <th>venue</th>\n",
       "      <th>excerpt</th>\n",
       "      <th>citation</th>\n",
       "      <th>url_slug</th>\n",
       "      <th>paper_url</th>\n",
       "    </tr>\n",
       "  </thead>\n",
       "  <tbody>\n",
       "    <tr>\n",
       "      <td>0</td>\n",
       "      <td>2018-07-11</td>\n",
       "      <td>Designing Corporate Hackathons with a Purpose</td>\n",
       "      <td>IEEE Software</td>\n",
       "      <td>In hackathons, small teams work together over ...</td>\n",
       "      <td>Pe-Than, E.P.P., Nolte, A., Filippova, A., Bir...</td>\n",
       "      <td>IEEESW-2018</td>\n",
       "      <td>http://eipapa.github.io/files/IEEESW-2018.pdf</td>\n",
       "    </tr>\n",
       "    <tr>\n",
       "      <td>1</td>\n",
       "      <td>2017-06-05</td>\n",
       "      <td>Does it matter how you play? The effects of co...</td>\n",
       "      <td>Journal of the Association of Information Scie...</td>\n",
       "      <td>Human computation games (HCGs) harness human i...</td>\n",
       "      <td>Pe-Than, E.P.P., Goh, D.H.-L., and Lee, C.S. (...</td>\n",
       "      <td>JASIST-2017</td>\n",
       "      <td>http://eipapa.github.io/files/JASIST-2017.pdf</td>\n",
       "    </tr>\n",
       "    <tr>\n",
       "      <td>2</td>\n",
       "      <td>2014-01-02</td>\n",
       "      <td>A typology of human computation games: An anal...</td>\n",
       "      <td>Behaviour and Information Technology(BIT)</td>\n",
       "      <td>Human computation games (HCGs) utilise human i...</td>\n",
       "      <td>Pe-Than, E.P.P., Goh, D.H.-L., and Lee, C.S. (...</td>\n",
       "      <td>BIT-2014</td>\n",
       "      <td>http://eipapa.github.io/files/BIT-2014.pdf</td>\n",
       "    </tr>\n",
       "    <tr>\n",
       "      <td>3</td>\n",
       "      <td>2014-07-01</td>\n",
       "      <td>Making work fun: Investigating antecedents of ...</td>\n",
       "      <td>Computers in Human Behavior(BIT)</td>\n",
       "      <td>The advent of online games, crowdsourcing, and...</td>\n",
       "      <td>Pe-Than, E.P.P., Goh, D.H.-L., and Lee, C.S. (...</td>\n",
       "      <td>CHB-2014</td>\n",
       "      <td>http://eipapa.github.io/files/CHB-2014.pdf</td>\n",
       "    </tr>\n",
       "    <tr>\n",
       "      <td>4</td>\n",
       "      <td>2018-11-01</td>\n",
       "      <td>You Hacked and Now What?: - Exploring Outcomes...</td>\n",
       "      <td>Proceedings of the ACM on Human-Computer Inter...</td>\n",
       "      <td>Time bounded events such as hackathons, data d...</td>\n",
       "      <td>Nolte, A., Pe-Than, E.P.P., Filippova, A., Bir...</td>\n",
       "      <td>CSCW-2018</td>\n",
       "      <td>http://eipapa.github.io/files/CSCW-2018.pdf</td>\n",
       "    </tr>\n",
       "    <tr>\n",
       "      <td>5</td>\n",
       "      <td>2019-03-13</td>\n",
       "      <td>Understanding Hackathons for Science: Collabor...</td>\n",
       "      <td>iConference 2019</td>\n",
       "      <td>Nowadays, hackathons have become a popular way...</td>\n",
       "      <td>Pe-Than, E.P.P. and Herbsleb, J.D. (2019). Und...</td>\n",
       "      <td>iConference-2019</td>\n",
       "      <td>http://eipapa.github.io/files/iConference-2019...</td>\n",
       "    </tr>\n",
       "    <tr>\n",
       "      <td>6</td>\n",
       "      <td>2018-10-01</td>\n",
       "      <td>Collaborative Writing on GitHub: A Case Study ...</td>\n",
       "      <td>Companion of the 2018 ACM Conference on Comput...</td>\n",
       "      <td>Social coding platforms such as GitHub are inc...</td>\n",
       "      <td>Pe-Than, E.P.P., Dabbish, L., and Herbsleb, J....</td>\n",
       "      <td>CSCW-abstract-2018</td>\n",
       "      <td>http://eipapa.github.io/files/CSCW-abstract-20...</td>\n",
       "    </tr>\n",
       "    <tr>\n",
       "      <td>7</td>\n",
       "      <td>2018-01-04</td>\n",
       "      <td>The 2nd Workshop on Hacking and Making at Time...</td>\n",
       "      <td>Extended Abstracts of the 2018 CHI Conference ...</td>\n",
       "      <td>Hackathons or Hackathon-style events, describe...</td>\n",
       "      <td>Pe-Than, E.P.P., Herbsleb, J.D., Nolte, A., Ge...</td>\n",
       "      <td>CHI-workshop-2018</td>\n",
       "      <td>http://eipapa.github.io/files/CHI-workshop-201...</td>\n",
       "    </tr>\n",
       "    <tr>\n",
       "      <td>8</td>\n",
       "      <td>2019-01-01</td>\n",
       "      <td>Hackathons for Science, How and Why?</td>\n",
       "      <td>233rd Meeting of the American Astronomical Soc...</td>\n",
       "      <td>Based on our empirical studies of 14 hackathon...</td>\n",
       "      <td>Pe-Than, E.P.P., Momcheva, I., Tollerud, E., a...</td>\n",
       "      <td>AAS-poster-2019</td>\n",
       "      <td>http://eipapa.github.io/files/AAS-poster-2019.pdf</td>\n",
       "    </tr>\n",
       "    <tr>\n",
       "      <td>9</td>\n",
       "      <td>2018-01-09</td>\n",
       "      <td>An Analysis of the PEARC 2018 Science Gateways...</td>\n",
       "      <td>Practice &amp; Experience in Advanced Research Com...</td>\n",
       "      <td>Science Gateways are web portals on which data...</td>\n",
       "      <td>Powell, J., Hayden, L., Nolte, A., Herbsleb, J...</td>\n",
       "      <td>SGCI-poster-2018</td>\n",
       "      <td>http://eipapa.github.io/files/SGCI-poster-2018...</td>\n",
       "    </tr>\n",
       "    <tr>\n",
       "      <td>10</td>\n",
       "      <td>2018-12-30</td>\n",
       "      <td>The 2nd Workshop on Hacking and Making at Time...</td>\n",
       "      <td>Technical Report CMU-ISR-18-109</td>\n",
       "      <td>In hackathons, small teams work together over ...</td>\n",
       "      <td>Pe-Than, E.P.P., and Nolte, A. (Editors) (2018...</td>\n",
       "      <td>ISR-techreport-2018</td>\n",
       "      <td>http://eipapa.github.io/files/ISR-techreport-2...</td>\n",
       "    </tr>\n",
       "  </tbody>\n",
       "</table>\n",
       "</div>"
      ],
      "text/plain": [
       "      pub_date                                              title  \\\n",
       "0   2018-07-11      Designing Corporate Hackathons with a Purpose   \n",
       "1   2017-06-05  Does it matter how you play? The effects of co...   \n",
       "2   2014-01-02  A typology of human computation games: An anal...   \n",
       "3   2014-07-01  Making work fun: Investigating antecedents of ...   \n",
       "4   2018-11-01  You Hacked and Now What?: - Exploring Outcomes...   \n",
       "5   2019-03-13  Understanding Hackathons for Science: Collabor...   \n",
       "6   2018-10-01  Collaborative Writing on GitHub: A Case Study ...   \n",
       "7   2018-01-04  The 2nd Workshop on Hacking and Making at Time...   \n",
       "8   2019-01-01               Hackathons for Science, How and Why?   \n",
       "9   2018-01-09  An Analysis of the PEARC 2018 Science Gateways...   \n",
       "10  2018-12-30  The 2nd Workshop on Hacking and Making at Time...   \n",
       "\n",
       "                                                venue  \\\n",
       "0                                       IEEE Software   \n",
       "1   Journal of the Association of Information Scie...   \n",
       "2           Behaviour and Information Technology(BIT)   \n",
       "3                    Computers in Human Behavior(BIT)   \n",
       "4   Proceedings of the ACM on Human-Computer Inter...   \n",
       "5                                    iConference 2019   \n",
       "6   Companion of the 2018 ACM Conference on Comput...   \n",
       "7   Extended Abstracts of the 2018 CHI Conference ...   \n",
       "8   233rd Meeting of the American Astronomical Soc...   \n",
       "9   Practice & Experience in Advanced Research Com...   \n",
       "10                    Technical Report CMU-ISR-18-109   \n",
       "\n",
       "                                              excerpt  \\\n",
       "0   In hackathons, small teams work together over ...   \n",
       "1   Human computation games (HCGs) harness human i...   \n",
       "2   Human computation games (HCGs) utilise human i...   \n",
       "3   The advent of online games, crowdsourcing, and...   \n",
       "4   Time bounded events such as hackathons, data d...   \n",
       "5   Nowadays, hackathons have become a popular way...   \n",
       "6   Social coding platforms such as GitHub are inc...   \n",
       "7   Hackathons or Hackathon-style events, describe...   \n",
       "8   Based on our empirical studies of 14 hackathon...   \n",
       "9   Science Gateways are web portals on which data...   \n",
       "10  In hackathons, small teams work together over ...   \n",
       "\n",
       "                                             citation             url_slug  \\\n",
       "0   Pe-Than, E.P.P., Nolte, A., Filippova, A., Bir...          IEEESW-2018   \n",
       "1   Pe-Than, E.P.P., Goh, D.H.-L., and Lee, C.S. (...          JASIST-2017   \n",
       "2   Pe-Than, E.P.P., Goh, D.H.-L., and Lee, C.S. (...             BIT-2014   \n",
       "3   Pe-Than, E.P.P., Goh, D.H.-L., and Lee, C.S. (...             CHB-2014   \n",
       "4   Nolte, A., Pe-Than, E.P.P., Filippova, A., Bir...            CSCW-2018   \n",
       "5   Pe-Than, E.P.P. and Herbsleb, J.D. (2019). Und...     iConference-2019   \n",
       "6   Pe-Than, E.P.P., Dabbish, L., and Herbsleb, J....   CSCW-abstract-2018   \n",
       "7   Pe-Than, E.P.P., Herbsleb, J.D., Nolte, A., Ge...    CHI-workshop-2018   \n",
       "8   Pe-Than, E.P.P., Momcheva, I., Tollerud, E., a...      AAS-poster-2019   \n",
       "9   Powell, J., Hayden, L., Nolte, A., Herbsleb, J...     SGCI-poster-2018   \n",
       "10  Pe-Than, E.P.P., and Nolte, A. (Editors) (2018...  ISR-techreport-2018   \n",
       "\n",
       "                                            paper_url  \n",
       "0       http://eipapa.github.io/files/IEEESW-2018.pdf  \n",
       "1       http://eipapa.github.io/files/JASIST-2017.pdf  \n",
       "2          http://eipapa.github.io/files/BIT-2014.pdf  \n",
       "3          http://eipapa.github.io/files/CHB-2014.pdf  \n",
       "4         http://eipapa.github.io/files/CSCW-2018.pdf  \n",
       "5   http://eipapa.github.io/files/iConference-2019...  \n",
       "6   http://eipapa.github.io/files/CSCW-abstract-20...  \n",
       "7   http://eipapa.github.io/files/CHI-workshop-201...  \n",
       "8   http://eipapa.github.io/files/AAS-poster-2019.pdf  \n",
       "9   http://eipapa.github.io/files/SGCI-poster-2018...  \n",
       "10  http://eipapa.github.io/files/ISR-techreport-2...  "
      ]
     },
     "execution_count": 88,
     "metadata": {},
     "output_type": "execute_result"
    }
   ],
   "source": [
    "publications = pd.read_csv(\"publications.tsv\", sep=\"\\t\", header=0)\n",
    "publications\n"
   ]
  },
  {
   "cell_type": "markdown",
   "metadata": {},
   "source": [
    "## Escape special characters\n",
    "\n",
    "YAML is very picky about how it takes a valid string, so we are replacing single and double quotes (and ampersands) with their HTML encoded equivilents. This makes them look not so readable in raw format, but they are parsed and rendered nicely."
   ]
  },
  {
   "cell_type": "code",
   "execution_count": 89,
   "metadata": {},
   "outputs": [],
   "source": [
    "html_escape_table = {\n",
    "    \"&\": \"&amp;\",\n",
    "    '\"': \"&quot;\",\n",
    "    \"'\": \"&apos;\"\n",
    "    }\n",
    "\n",
    "def html_escape(text):\n",
    "    \"\"\"Produce entities within text.\"\"\"\n",
    "    return \"\".join(html_escape_table.get(c,c) for c in text)"
   ]
  },
  {
   "cell_type": "markdown",
   "metadata": {},
   "source": [
    "## Creating the markdown files\n",
    "\n",
    "This is where the heavy lifting is done. This loops through all the rows in the TSV dataframe, then starts to concatentate a big string (```md```) that contains the markdown for each type. It does the YAML metadata first, then does the description for the individual page."
   ]
  },
  {
   "cell_type": "code",
   "execution_count": 90,
   "metadata": {},
   "outputs": [],
   "source": [
    "import os\n",
    "for row, item in publications.iterrows():\n",
    "    \n",
    "    md_filename = str(item.pub_date) + \"-\" + item.url_slug + \".md\"\n",
    "    html_filename = str(item.pub_date) + \"-\" + item.url_slug\n",
    "    year = item.pub_date[:4]\n",
    "    \n",
    "    ## YAML variables\n",
    "    \n",
    "    md = \"---\\ntitle: \\\"\"   + item.title + '\"\\n'\n",
    "    md += \"\"\"collection: publications\"\"\"\n",
    "    md += \"\"\"\\npermalink: /publication/\"\"\" + html_filename\n",
    "    if len(str(item.excerpt)) > 5:\n",
    "        md += \"\\nexcerpt: '\" + html_escape(item.excerpt) + \"'\"\n",
    "    md += \"\\ndate: \" + str(item.pub_date) \n",
    "    md += \"\\nvenue: '\" + html_escape(item.venue) + \"'\"    \n",
    "#     if len(str(item.paper_url)) > 5:\n",
    "#         md += \"\\npaperurl: '\" + item.paper_url + \"'\"\n",
    "#     md += \"\\ncitation: '\" + html_escape(item.citation) + \"'\"\n",
    "    md += \"\\n---\"\n",
    "    \n",
    "    ## Markdown description for individual page\n",
    "        \n",
    "    if len(str(item.paper_url)) > 5:\n",
    "#         md += \"\\n[<span style=\\\"color: #c41e3a\\\">Download PDF here.</span>](\" + item.paper_url + \")\\n\"\n",
    "        md += \"\\n[Download PDF here.](\" + item.paper_url + \")\\n\"\n",
    "    if len(str(item.excerpt)) > 5:\n",
    "        md += \"\\n**Abstract**:\" + html_escape(item.excerpt) + \"\\n\"    \n",
    "#     md += \"\\nAbstract: \" + html_escape(item.description) + \"\\n\"\n",
    "    md += \"\\n**Recommended citation**: \" + item.citation\n",
    "    md_filename = os.path.basename(md_filename)\n",
    "    with open(\"../_publications/\" + md_filename, 'w') as f:\n",
    "        f.write(md)"
   ]
  },
  {
   "cell_type": "markdown",
   "metadata": {},
   "source": [
    "These files are in the publications directory, one directory below where we're working from."
   ]
  },
  {
   "cell_type": "code",
   "execution_count": 91,
   "metadata": {},
   "outputs": [
    {
     "name": "stdout",
     "output_type": "stream",
     "text": [
      "2014-01-02-BIT-2014.md            2018-10-01-CSCW-abstract-2018.md\r\n",
      "2014-07-01-CHB-2014.md            2018-11-01-CSCW-2018.md\r\n",
      "2017-06-05-JASIST-2017.md         2018-12-30-ISR-techreport-2018.md\r\n",
      "2018-01-04-CHI-workshop-2018.md   2019-01-01-AAS-poster-2019.md\r\n",
      "2018-01-09-SGCI-poster-2018.md    2019-03-13-iConference-2019.md\r\n",
      "2018-07-11-IEEESW-2018.md\r\n"
     ]
    }
   ],
   "source": [
    "!ls ../_publications/"
   ]
  },
  {
   "cell_type": "code",
   "execution_count": null,
   "metadata": {},
   "outputs": [],
   "source": [
    "!cat ../_publications/2009-10-01-paper-title-number-1.md"
   ]
  },
  {
   "cell_type": "code",
   "execution_count": null,
   "metadata": {},
   "outputs": [],
   "source": []
  }
 ],
 "metadata": {
  "kernelspec": {
   "display_name": "Python 3",
   "language": "python",
   "name": "python3"
  },
  "language_info": {
   "codemirror_mode": {
    "name": "ipython",
    "version": 3
   },
   "file_extension": ".py",
   "mimetype": "text/x-python",
   "name": "python",
   "nbconvert_exporter": "python",
   "pygments_lexer": "ipython3",
   "version": "3.7.4"
  }
 },
 "nbformat": 4,
 "nbformat_minor": 1
}
