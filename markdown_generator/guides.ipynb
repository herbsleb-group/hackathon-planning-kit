{
 "cells": [
  {
   "cell_type": "markdown",
   "metadata": {},
   "source": [
    "# Gides markdown generator\n",
    "Adopted from Publications markdown generator for academicpages\n",
    "\n",
    "Takes a TSV of publications with metadata and converts them for use with [academicpages.github.io](academicpages.github.io). This is an interactive Jupyter notebook ([see more info here](http://jupyter-notebook-beginner-guide.readthedocs.io/en/latest/what_is_jupyter.html)). The core python code is also in `guides.py`. Run either from the `markdown_generator` folder after replacing `guides.tsv` with one containing your data.\n",
    "\n",
    "TODO: Make this work with BibTex and other databases of citations, rather than Stuart's non-standard TSV format and citation style.\n"
   ]
  },
  {
   "cell_type": "markdown",
   "metadata": {},
   "source": [
    "## Data format\n",
    "\n",
    "The TSV needs to have the following columns: title, author, and paper_url, with a header at the top.\n",
    "\n",
    "- `author` can be blank, but the other must have vlaues.\n",
    "\n",
    "- `excerpt` and `paper_url` can be blank, but the others must have values. \n",
    "- `pub_date` must be formatted as YYYY-MM-DD.\n",
    "- `url_slug` will be the descriptive part of the .md file and the permalink URL for the page about the paper. The .md file will be `YYYY-MM-DD-[url_slug].md` and the permalink will be `https://[yourdomain]/publications/YYYY-MM-DD-[url_slug]`\n",
    "\n",
    "This is how the raw file looks (it doesn't look pretty, use a spreadsheet or other program to edit and create)."
   ]
  },
  {
   "cell_type": "code",
   "execution_count": 160,
   "metadata": {},
   "outputs": [
    {
     "name": "stdout",
     "output_type": "stream",
     "text": [
      "id\ttitle\tvenu\turl_slug\tpaper_url\r",
      "\r\n",
      "\"01\"\tBrigade Organizer's Playbook\tCode for America.org\tcode-for-America-playbook\thttp://eipapa.github.io/hack-research-mmistakes/files/code-for-America-playbook.pdf\r",
      "\r\n",
      "\"02\"\tHackathon Playbook\tHackathons 101\thackathon-playbook-external\thttp://eipapa.github.io/hack-research-mmistakes/files/hackathon-playbook-external.pdf\r",
      "\r\n",
      "\"03\"\tHealth Hackathon Handbook\tMIT Hacking Medicine\thealth-hackathon-handbook\thttp://eipapa.github.io/hack-research-mmistakes/files/health-hackathon-handbook.pdf\r",
      "\r\n",
      "\"04\"\t@Civicwhitaker Anthology\tChristopher Whitaker edited by Daniel X. O'Neil\tcivicwhitaker-anthology\thttp://eipapa.github.io/hack-research-mmistakes/files/civicwhitaker-anthology.pdf\r",
      "\r\n",
      "\"05\"\tThe complete guide to organizing a successful hackathon\thackerearth\thackerearth\thttp://eipapa.github.io/hack-research-mmistakes/files/hackerearth.pdf \r",
      "\r\n"
     ]
    }
   ],
   "source": [
    "!cat guides.tsv"
   ]
  },
  {
   "cell_type": "markdown",
   "metadata": {},
   "source": [
    "## Import pandas\n",
    "\n",
    "We are using the very handy pandas library for dataframes."
   ]
  },
  {
   "cell_type": "code",
   "execution_count": 161,
   "metadata": {},
   "outputs": [],
   "source": [
    "import pandas as pd"
   ]
  },
  {
   "cell_type": "markdown",
   "metadata": {},
   "source": [
    "## Import TSV\n",
    "\n",
    "Pandas makes this easy with the read_csv function. We are using a TSV, so we specify the separator as a tab, or `\\t`.\n",
    "\n",
    "I found it important to put this data in a tab-separated values format, because there are a lot of commas in this kind of data and comma-separated values can get messed up. However, you can modify the import statement, as pandas also has read_excel(), read_json(), and others."
   ]
  },
  {
   "cell_type": "code",
   "execution_count": 162,
   "metadata": {
    "scrolled": false
   },
   "outputs": [
    {
     "data": {
      "text/html": [
       "<div>\n",
       "<style scoped>\n",
       "    .dataframe tbody tr th:only-of-type {\n",
       "        vertical-align: middle;\n",
       "    }\n",
       "\n",
       "    .dataframe tbody tr th {\n",
       "        vertical-align: top;\n",
       "    }\n",
       "\n",
       "    .dataframe thead th {\n",
       "        text-align: right;\n",
       "    }\n",
       "</style>\n",
       "<table border=\"1\" class=\"dataframe\">\n",
       "  <thead>\n",
       "    <tr style=\"text-align: right;\">\n",
       "      <th></th>\n",
       "      <th>id</th>\n",
       "      <th>title</th>\n",
       "      <th>venu</th>\n",
       "      <th>url_slug</th>\n",
       "      <th>paper_url</th>\n",
       "    </tr>\n",
       "  </thead>\n",
       "  <tbody>\n",
       "    <tr>\n",
       "      <th>0</th>\n",
       "      <td>1</td>\n",
       "      <td>Brigade Organizer's Playbook</td>\n",
       "      <td>Code for America.org</td>\n",
       "      <td>code-for-America-playbook</td>\n",
       "      <td>http://eipapa.github.io/hack-research-mmistake...</td>\n",
       "    </tr>\n",
       "    <tr>\n",
       "      <th>1</th>\n",
       "      <td>2</td>\n",
       "      <td>Hackathon Playbook</td>\n",
       "      <td>Hackathons 101</td>\n",
       "      <td>hackathon-playbook-external</td>\n",
       "      <td>http://eipapa.github.io/hack-research-mmistake...</td>\n",
       "    </tr>\n",
       "    <tr>\n",
       "      <th>2</th>\n",
       "      <td>3</td>\n",
       "      <td>Health Hackathon Handbook</td>\n",
       "      <td>MIT Hacking Medicine</td>\n",
       "      <td>health-hackathon-handbook</td>\n",
       "      <td>http://eipapa.github.io/hack-research-mmistake...</td>\n",
       "    </tr>\n",
       "    <tr>\n",
       "      <th>3</th>\n",
       "      <td>4</td>\n",
       "      <td>@Civicwhitaker Anthology</td>\n",
       "      <td>Christopher Whitaker edited by Daniel X. O'Neil</td>\n",
       "      <td>civicwhitaker-anthology</td>\n",
       "      <td>http://eipapa.github.io/hack-research-mmistake...</td>\n",
       "    </tr>\n",
       "    <tr>\n",
       "      <th>4</th>\n",
       "      <td>5</td>\n",
       "      <td>The complete guide to organizing a successful ...</td>\n",
       "      <td>hackerearth</td>\n",
       "      <td>hackerearth</td>\n",
       "      <td>http://eipapa.github.io/hack-research-mmistake...</td>\n",
       "    </tr>\n",
       "  </tbody>\n",
       "</table>\n",
       "</div>"
      ],
      "text/plain": [
       "   id                                              title  \\\n",
       "0   1                       Brigade Organizer's Playbook   \n",
       "1   2                                 Hackathon Playbook   \n",
       "2   3                          Health Hackathon Handbook   \n",
       "3   4                           @Civicwhitaker Anthology   \n",
       "4   5  The complete guide to organizing a successful ...   \n",
       "\n",
       "                                              venu  \\\n",
       "0                             Code for America.org   \n",
       "1                                   Hackathons 101   \n",
       "2                             MIT Hacking Medicine   \n",
       "3  Christopher Whitaker edited by Daniel X. O'Neil   \n",
       "4                                      hackerearth   \n",
       "\n",
       "                      url_slug  \\\n",
       "0    code-for-America-playbook   \n",
       "1  hackathon-playbook-external   \n",
       "2    health-hackathon-handbook   \n",
       "3      civicwhitaker-anthology   \n",
       "4                  hackerearth   \n",
       "\n",
       "                                           paper_url  \n",
       "0  http://eipapa.github.io/hack-research-mmistake...  \n",
       "1  http://eipapa.github.io/hack-research-mmistake...  \n",
       "2  http://eipapa.github.io/hack-research-mmistake...  \n",
       "3  http://eipapa.github.io/hack-research-mmistake...  \n",
       "4  http://eipapa.github.io/hack-research-mmistake...  "
      ]
     },
     "execution_count": 162,
     "metadata": {},
     "output_type": "execute_result"
    }
   ],
   "source": [
    "guides = pd.read_csv(\"guides.tsv\", sep=\"\\t\", header=0)\n",
    "guides\n"
   ]
  },
  {
   "cell_type": "code",
   "execution_count": 163,
   "metadata": {},
   "outputs": [
    {
     "name": "stdout",
     "output_type": "stream",
     "text": [
      "1\n",
      "2\n",
      "3\n",
      "4\n",
      "5\n"
     ]
    }
   ],
   "source": [
    "for row, item in guides.iterrows():\n",
    "    print(item.id)"
   ]
  },
  {
   "cell_type": "markdown",
   "metadata": {},
   "source": [
    "## Escape special characters\n",
    "\n",
    "YAML is very picky about how it takes a valid string, so we are replacing single and double quotes (and ampersands) with their HTML encoded equivilents. This makes them look not so readable in raw format, but they are parsed and rendered nicely."
   ]
  },
  {
   "cell_type": "code",
   "execution_count": 164,
   "metadata": {},
   "outputs": [],
   "source": [
    "html_escape_table = {\n",
    "    \"&\": \"&amp;\",\n",
    "    '\"': \"&quot;\",\n",
    "    \"'\": \"&apos;\"\n",
    "    }\n",
    "\n",
    "def html_escape(text):\n",
    "    \"\"\"Produce entities within text.\"\"\"\n",
    "    return \"\".join(html_escape_table.get(c,c) for c in text)"
   ]
  },
  {
   "cell_type": "markdown",
   "metadata": {},
   "source": [
    "## Creating the markdown files\n",
    "\n",
    "This is where the heavy lifting is done. This loops through all the rows in the TSV dataframe, then starts to concatentate a big string (```md```) that contains the markdown for each type. It does the YAML metadata first, then does the description for the individual page."
   ]
  },
  {
   "cell_type": "code",
   "execution_count": 165,
   "metadata": {},
   "outputs": [],
   "source": [
    "import os\n",
    "for row, item in guides.iterrows():\n",
    "    \n",
    "    md_filename = str(item.id) + \"-\" + item.url_slug + \".md\"\n",
    "    html_filename = str(item.id) + \"-\" + item.url_slug\n",
    "    \n",
    "    ## YAML variables\n",
    "    \n",
    "    md = \"---\\ntitle: \\\"\"   + item.title + '\"\\n'\n",
    "    md += \"\"\"collection: guides\"\"\"\n",
    "    md += \"\"\"\\npermalink: /guide/\"\"\" + html_filename\n",
    "    md += \"\\nvenue: '\" + html_escape(item.venu) + \"'\"\n",
    "    #md +=\"\\npaper_url: '\" + item.paper_url + \"'\"\n",
    "    md += \"\\n---\"\n",
    "    \n",
    "    ## Markdown description for individual page\n",
    "        \n",
    "#     if len(str(item.paper_url)) > 5:\n",
    "#         md += \"\\n[<span style=\\\"color: #c41e3a\\\">Download PDF here.</span>](\" + item.paper_url + \")\\n\"\n",
    "    md += \"\\n[Download PDF here.](\" + item.paper_url + \")\\n\"\n",
    "#     if len(str(item.excerpt)) > 5:\n",
    "#         md += \"\\n**Abstract**:\" + html_escape(item.excerpt) + \"\\n\"    \n",
    "#     md += \"\\nAbstract: \" + html_escape(item.description) + \"\\n\"\n",
    "#     md += \"\\n**Recommended citation**: \" + item.citation\n",
    "    md_filename = os.path.basename(md_filename)\n",
    "    with open(\"../_guides/\" + md_filename, 'w') as f:\n",
    "        f.write(md)"
   ]
  },
  {
   "cell_type": "markdown",
   "metadata": {},
   "source": [
    "These files are in the publications directory, one directory below where we're working from."
   ]
  },
  {
   "cell_type": "code",
   "execution_count": 166,
   "metadata": {},
   "outputs": [
    {
     "name": "stdout",
     "output_type": "stream",
     "text": [
      "1-code-for-America-playbook.md   4-civicwhitaker-anthology.md\r\n",
      "2-hackathon-playbook-external.md 5-hackerearth.md\r\n",
      "3-health-hackathon-handbook.md\r\n"
     ]
    }
   ],
   "source": [
    "!ls ../_guides/"
   ]
  },
  {
   "cell_type": "code",
   "execution_count": null,
   "metadata": {},
   "outputs": [],
   "source": [
    "!cat ../_guides/2009-10-01-paper-title-number-1.md"
   ]
  }
 ],
 "metadata": {
  "kernelspec": {
   "display_name": "Python 3",
   "language": "python",
   "name": "python3"
  },
  "language_info": {
   "codemirror_mode": {
    "name": "ipython",
    "version": 3
   },
   "file_extension": ".py",
   "mimetype": "text/x-python",
   "name": "python",
   "nbconvert_exporter": "python",
   "pygments_lexer": "ipython3",
   "version": "3.7.6"
  }
 },
 "nbformat": 4,
 "nbformat_minor": 1
}
