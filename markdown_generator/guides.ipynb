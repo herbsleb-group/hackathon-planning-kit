{
 "cells": [
  {
   "cell_type": "markdown",
   "metadata": {},
   "source": [
    "# Gides markdown generator\n",
    "Adopted from Publications markdown generator for academicpages\n",
    "\n",
    "Takes a TSV of publications with metadata and converts them for use with [academicpages.github.io](academicpages.github.io). This is an interactive Jupyter notebook ([see more info here](http://jupyter-notebook-beginner-guide.readthedocs.io/en/latest/what_is_jupyter.html)). The core python code is also in `guides.py`. Run either from the `markdown_generator` folder after replacing `guides.tsv` with one containing your data.\n",
    "\n",
    "TODO: Make this work with BibTex and other databases of citations, rather than Stuart's non-standard TSV format and citation style.\n"
   ]
  },
  {
   "cell_type": "markdown",
   "metadata": {},
   "source": [
    "## Data format\n",
    "\n",
    "The TSV needs to have the following columns: title, author, and paper_url, with a header at the top.\n",
    "\n",
    "- `author` can be blank, but the other must have vlaues.\n",
    "\n",
    "- `excerpt` and `paper_url` can be blank, but the others must have values. \n",
    "- `pub_date` must be formatted as YYYY-MM-DD.\n",
    "- `url_slug` will be the descriptive part of the .md file and the permalink URL for the page about the paper. The .md file will be `YYYY-MM-DD-[url_slug].md` and the permalink will be `https://[yourdomain]/publications/YYYY-MM-DD-[url_slug]`\n",
    "\n",
    "This is how the raw file looks (it doesn't look pretty, use a spreadsheet or other program to edit and create)."
   ]
  },
  {
   "cell_type": "code",
   "execution_count": 83,
   "metadata": {},
   "outputs": [
    {
     "name": "stdout",
     "output_type": "stream",
     "text": [
      "id\ttitle0\ttitle1\texcerpt\turl_slug\tpaper_url\r",
      "\r\n",
      "01\tCode for America\tBrigade Organizer's Playbook\t\"This organizer's playbook will help hackathon organizers to get started. This guide was build from Code for America's research about how to build sustainable, civic hacking groups and bring 21st century government practices and products to their cities. This guide contains various check-lists essential for organizing, building, and infrastructure development.\"\tcode-for-America-playbook\thttp://eipapa.github.io/hackathon-planning-kit/files/code-for-America-playbook.pdf\r",
      "\r\n",
      "02\tMajor League Hacking (MLH)\tThe MLH Hackathon Organizer Guide\t\"Major League Hacking (MLH) is the official sutdent hackathon league in the US which was launched in 2013. Each year, MLH powers over 200 weekend-long invention competitions that inspire innovation, cultivate communities and teach computer science skills to more than 65,000 students around the world. MLH organizer's guide is an essential resource for student hackathon organizers as it contains lots of lessons that MLH and the hackathon community around the world have learnt from organizing the hackathons. This guide organizes activities that organizers need to perform by timeline and also includes other useful resources such as example documents for budget and volunteer guides as well as software for hackathon.\"\tmlh\thttps://guide.mlh.io\r",
      "\r\n",
      "03\tOpen Data Day DC by Joshua Tauberer\tHow to run a successful hackathon (Open Data Day DC)\t\"This guide is created out of the author's experience of running 5 successful years of Open Data Day DC and other civic hackathosn that they involved in. In addition to providing basic requirements and logistics for hackathon, this guide touches one of the important and hardest topics of <em>welcoming and onboarding newcomers</em> as well as <em>cultivating good hackahton projects</em>.\"\topen-data-day-dc\thttps://hackathon.guide\r",
      "\r\n",
      "04\tChicago Civic Tech\t@Civicwhitaker Anthology\t\"This is the comprehensive collection of civic hackahtons and other connected events that served a basis for the formation and evolution of the Chicago's Civic Tech Ecosystem.\"\tcivicwhitaker-anthology\thttp://eipapa.github.io/hackathon-planning-kit/files/civicwhitaker-anthology.pdf\r",
      "\r\n",
      "05\tHackathon Playbook\t\t\"This playbook outlines the guidlines for desiging corporate hackathons which is organized into three phases: preparation, hack time, and post-event. It also includes additional useful information regarding how to be a good hackathon judge and how to be a successful hackahton participant as well as when to use one of the two most common styles of hackathons: presentation and science fair.\"\thackathon-playbook-external\thttp://eipapa.github.io/hackathon-planning-kit/files/hackathon-playbook-external.pdf\r",
      "\r\n",
      "06\tHealth Hackathon Handbook\tMIT Hacking Medicine\t\"This guide provides the who, what, when, where, and how essentials of a health hackthon.\"\thealth-hackathon-handbook\thttp://eipapa.github.io/hackathon-planning-kit/files/health-hackathon-handbook.pdf\r",
      "\r\n",
      "07\tThe complete guide to organizing a successful hackathon\tHackerearth\t\"This guide constructed based on the expertise gleaned from conducting over 800+ hackathons provides an overview of best practices that will help organizers to ensure that their hackathons will provide incredible experience for participants and sponsors. It focuses on two formats of hackathons: offline and online, and outlines the processes for each hackahton format starting from the selection of themes, target audience, format, timing, judges, promotion, etc.\"\thackerearth\thttp://eipapa.github.io/hackathon-planning-kit/files/hackerearth.pdf \r",
      "\r\n"
     ]
    }
   ],
   "source": [
    "!cat guides.tsv"
   ]
  },
  {
   "cell_type": "markdown",
   "metadata": {},
   "source": [
    "## Import pandas\n",
    "\n",
    "We are using the very handy pandas library for dataframes."
   ]
  },
  {
   "cell_type": "code",
   "execution_count": 84,
   "metadata": {},
   "outputs": [],
   "source": [
    "import pandas as pd"
   ]
  },
  {
   "cell_type": "markdown",
   "metadata": {},
   "source": [
    "## Import TSV\n",
    "\n",
    "Pandas makes this easy with the read_csv function. We are using a TSV, so we specify the separator as a tab, or `\\t`.\n",
    "\n",
    "I found it important to put this data in a tab-separated values format, because there are a lot of commas in this kind of data and comma-separated values can get messed up. However, you can modify the import statement, as pandas also has read_excel(), read_json(), and others."
   ]
  },
  {
   "cell_type": "code",
   "execution_count": 85,
   "metadata": {
    "scrolled": false
   },
   "outputs": [
    {
     "data": {
      "text/html": [
       "<div>\n",
       "<style scoped>\n",
       "    .dataframe tbody tr th:only-of-type {\n",
       "        vertical-align: middle;\n",
       "    }\n",
       "\n",
       "    .dataframe tbody tr th {\n",
       "        vertical-align: top;\n",
       "    }\n",
       "\n",
       "    .dataframe thead th {\n",
       "        text-align: right;\n",
       "    }\n",
       "</style>\n",
       "<table border=\"1\" class=\"dataframe\">\n",
       "  <thead>\n",
       "    <tr style=\"text-align: right;\">\n",
       "      <th></th>\n",
       "      <th>id</th>\n",
       "      <th>title0</th>\n",
       "      <th>title1</th>\n",
       "      <th>excerpt</th>\n",
       "      <th>url_slug</th>\n",
       "      <th>paper_url</th>\n",
       "    </tr>\n",
       "  </thead>\n",
       "  <tbody>\n",
       "    <tr>\n",
       "      <th>0</th>\n",
       "      <td>1</td>\n",
       "      <td>Code for America</td>\n",
       "      <td>Brigade Organizer's Playbook</td>\n",
       "      <td>This organizer's playbook will help hackathon ...</td>\n",
       "      <td>code-for-America-playbook</td>\n",
       "      <td>http://eipapa.github.io/hackathon-planning-kit...</td>\n",
       "    </tr>\n",
       "    <tr>\n",
       "      <th>1</th>\n",
       "      <td>2</td>\n",
       "      <td>Major League Hacking (MLH)</td>\n",
       "      <td>The MLH Hackathon Organizer Guide</td>\n",
       "      <td>Major League Hacking (MLH) is the official sut...</td>\n",
       "      <td>mlh</td>\n",
       "      <td>https://guide.mlh.io</td>\n",
       "    </tr>\n",
       "    <tr>\n",
       "      <th>2</th>\n",
       "      <td>3</td>\n",
       "      <td>Open Data Day DC by Joshua Tauberer</td>\n",
       "      <td>How to run a successful hackathon (Open Data D...</td>\n",
       "      <td>This guide is created out of the author's expe...</td>\n",
       "      <td>open-data-day-dc</td>\n",
       "      <td>https://hackathon.guide</td>\n",
       "    </tr>\n",
       "    <tr>\n",
       "      <th>3</th>\n",
       "      <td>4</td>\n",
       "      <td>Chicago Civic Tech</td>\n",
       "      <td>@Civicwhitaker Anthology</td>\n",
       "      <td>This is the comprehensive collection of civic ...</td>\n",
       "      <td>civicwhitaker-anthology</td>\n",
       "      <td>http://eipapa.github.io/hackathon-planning-kit...</td>\n",
       "    </tr>\n",
       "    <tr>\n",
       "      <th>4</th>\n",
       "      <td>5</td>\n",
       "      <td>Hackathon Playbook</td>\n",
       "      <td>NaN</td>\n",
       "      <td>This playbook outlines the guidlines for desig...</td>\n",
       "      <td>hackathon-playbook-external</td>\n",
       "      <td>http://eipapa.github.io/hackathon-planning-kit...</td>\n",
       "    </tr>\n",
       "    <tr>\n",
       "      <th>5</th>\n",
       "      <td>6</td>\n",
       "      <td>Health Hackathon Handbook</td>\n",
       "      <td>MIT Hacking Medicine</td>\n",
       "      <td>This guide provides the who, what, when, where...</td>\n",
       "      <td>health-hackathon-handbook</td>\n",
       "      <td>http://eipapa.github.io/hackathon-planning-kit...</td>\n",
       "    </tr>\n",
       "    <tr>\n",
       "      <th>6</th>\n",
       "      <td>7</td>\n",
       "      <td>The complete guide to organizing a successful ...</td>\n",
       "      <td>Hackerearth</td>\n",
       "      <td>This guide constructed based on the expertise ...</td>\n",
       "      <td>hackerearth</td>\n",
       "      <td>http://eipapa.github.io/hackathon-planning-kit...</td>\n",
       "    </tr>\n",
       "  </tbody>\n",
       "</table>\n",
       "</div>"
      ],
      "text/plain": [
       "   id                                             title0  \\\n",
       "0   1                                   Code for America   \n",
       "1   2                         Major League Hacking (MLH)   \n",
       "2   3                Open Data Day DC by Joshua Tauberer   \n",
       "3   4                                 Chicago Civic Tech   \n",
       "4   5                                 Hackathon Playbook   \n",
       "5   6                          Health Hackathon Handbook   \n",
       "6   7  The complete guide to organizing a successful ...   \n",
       "\n",
       "                                              title1  \\\n",
       "0                       Brigade Organizer's Playbook   \n",
       "1                  The MLH Hackathon Organizer Guide   \n",
       "2  How to run a successful hackathon (Open Data D...   \n",
       "3                           @Civicwhitaker Anthology   \n",
       "4                                                NaN   \n",
       "5                               MIT Hacking Medicine   \n",
       "6                                        Hackerearth   \n",
       "\n",
       "                                             excerpt  \\\n",
       "0  This organizer's playbook will help hackathon ...   \n",
       "1  Major League Hacking (MLH) is the official sut...   \n",
       "2  This guide is created out of the author's expe...   \n",
       "3  This is the comprehensive collection of civic ...   \n",
       "4  This playbook outlines the guidlines for desig...   \n",
       "5  This guide provides the who, what, when, where...   \n",
       "6  This guide constructed based on the expertise ...   \n",
       "\n",
       "                      url_slug  \\\n",
       "0    code-for-America-playbook   \n",
       "1                          mlh   \n",
       "2             open-data-day-dc   \n",
       "3      civicwhitaker-anthology   \n",
       "4  hackathon-playbook-external   \n",
       "5    health-hackathon-handbook   \n",
       "6                  hackerearth   \n",
       "\n",
       "                                           paper_url  \n",
       "0  http://eipapa.github.io/hackathon-planning-kit...  \n",
       "1                               https://guide.mlh.io  \n",
       "2                            https://hackathon.guide  \n",
       "3  http://eipapa.github.io/hackathon-planning-kit...  \n",
       "4  http://eipapa.github.io/hackathon-planning-kit...  \n",
       "5  http://eipapa.github.io/hackathon-planning-kit...  \n",
       "6  http://eipapa.github.io/hackathon-planning-kit...  "
      ]
     },
     "execution_count": 85,
     "metadata": {},
     "output_type": "execute_result"
    }
   ],
   "source": [
    "guides = pd.read_csv(\"guides.tsv\", sep=\"\\t\", header=0)\n",
    "guides\n"
   ]
  },
  {
   "cell_type": "code",
   "execution_count": 86,
   "metadata": {},
   "outputs": [
    {
     "name": "stdout",
     "output_type": "stream",
     "text": [
      "This organizer's playbook will help hackathon organizers to get started. This guide was build from Code for America's research about how to build sustainable, civic hacking groups and bring 21st century government practices and products to their cities. This guide contains various check-lists essential for organizing, building, and infrastructure development.\n",
      "Major League Hacking (MLH) is the official sutdent hackathon league in the US which was launched in 2013. Each year, MLH powers over 200 weekend-long invention competitions that inspire innovation, cultivate communities and teach computer science skills to more than 65,000 students around the world. MLH organizer's guide is an essential resource for student hackathon organizers as it contains lots of lessons that MLH and the hackathon community around the world have learnt from organizing the hackathons. This guide organizes activities that organizers need to perform by timeline and also includes other useful resources such as example documents for budget and volunteer guides as well as software for hackathon.\n",
      "This guide is created out of the author's experience of running 5 successful years of Open Data Day DC and other civic hackathosn that they involved in. In addition to providing basic requirements and logistics for hackathon, this guide touches one of the important and hardest topics of <em>welcoming and onboarding newcomers</em> as well as <em>cultivating good hackahton projects</em>.\n",
      "This is the comprehensive collection of civic hackahtons and other connected events that served a basis for the formation and evolution of the Chicago's Civic Tech Ecosystem.\n",
      "This playbook outlines the guidlines for desiging corporate hackathons which is organized into three phases: preparation, hack time, and post-event. It also includes additional useful information regarding how to be a good hackathon judge and how to be a successful hackahton participant as well as when to use one of the two most common styles of hackathons: presentation and science fair.\n",
      "This guide provides the who, what, when, where, and how essentials of a health hackthon.\n",
      "This guide constructed based on the expertise gleaned from conducting over 800+ hackathons provides an overview of best practices that will help organizers to ensure that their hackathons will provide incredible experience for participants and sponsors. It focuses on two formats of hackathons: offline and online, and outlines the processes for each hackahton format starting from the selection of themes, target audience, format, timing, judges, promotion, etc.\n"
     ]
    }
   ],
   "source": [
    "for row, item in guides.iterrows():\n",
    "    print(item.excerpt)"
   ]
  },
  {
   "cell_type": "markdown",
   "metadata": {},
   "source": [
    "## Escape special characters\n",
    "\n",
    "YAML is very picky about how it takes a valid string, so we are replacing single and double quotes (and ampersands) with their HTML encoded equivilents. This makes them look not so readable in raw format, but they are parsed and rendered nicely."
   ]
  },
  {
   "cell_type": "code",
   "execution_count": 87,
   "metadata": {},
   "outputs": [],
   "source": [
    "html_escape_table = {\n",
    "    \"&\": \"&amp;\",\n",
    "    '\"': \"&quot;\",\n",
    "    \"'\": \"&apos;\"\n",
    "    }\n",
    "\n",
    "def html_escape(text):\n",
    "    \"\"\"Produce entities within text.\"\"\"\n",
    "    return \"\".join(html_escape_table.get(c,c) for c in text)"
   ]
  },
  {
   "cell_type": "markdown",
   "metadata": {},
   "source": [
    "## Creating the markdown files\n",
    "\n",
    "This is where the heavy lifting is done. This loops through all the rows in the TSV dataframe, then starts to concatentate a big string (```md```) that contains the markdown for each type. It does the YAML metadata first, then does the description for the individual page."
   ]
  },
  {
   "cell_type": "code",
   "execution_count": 88,
   "metadata": {},
   "outputs": [],
   "source": [
    "import os\n",
    "for row, item in guides.iterrows():\n",
    "    \n",
    "    md_filename = str(item.id) + \"-\" + item.url_slug + \".md\"\n",
    "    html_filename = str(item.id) + \"-\" + item.url_slug\n",
    "    \n",
    "    ## YAML variables\n",
    "    \n",
    "    md = \"---\\ntitle0: \\\"\" + item.title0 + \"\\\"\"\n",
    "    if len(str(item.title1)) > 5:\n",
    "        md += \"\\ntitle1: \\\"\" + item.title1 + \"\\\"\"\n",
    "    else:\n",
    "        md += \"\\ntitle1: \\\"\" + \"\\\"\"\n",
    "    md += \"\\ncollection: guides\"\n",
    "#     md += \"\"\"\\npermalink: /guide/\"\"\" + html_filename\n",
    "#     md += \"\\nvenue: '\" + html_escape(item.venu) + \"'\"\n",
    "    md += \"\\nexcerpt: '\" + html_escape(item.excerpt) + \"'\"\n",
    "    md +=\"\\npaper_url: '\" + item.paper_url + \"'\"\n",
    "    md += \"\\n---\"\n",
    "    \n",
    "    ## Markdown description for individual page\n",
    "        \n",
    "#     if len(str(item.paper_url)) > 5:\n",
    "#         md += \"\\n[<span style=\\\"color: #c41e3a\\\">Download PDF here.</span>](\" + item.paper_url + \")\\n\"\n",
    "    md += \"\\n'\" + html_escape(item.excerpt) + \"\\'\"\n",
    "    md += \"\\n[Download PDF here.](\" + item.paper_url + \")\\n\"\n",
    "#     if len(str(item.excerpt)) > 5:\n",
    "#         md += \"\\n**Abstract**:\" + html_escape(item.excerpt) + \"\\n\"    \n",
    "#     md += \"\\nAbstract: \" + html_escape(item.description) + \"\\n\"\n",
    "#     md += \"\\n**Recommended citation**: \" + item.citation\n",
    "    md_filename = os.path.basename(md_filename)\n",
    "    with open(\"../_guides/\" + md_filename, 'w') as f:\n",
    "        f.write(md)"
   ]
  },
  {
   "cell_type": "markdown",
   "metadata": {},
   "source": [
    "These files are in the publications directory, one directory below where we're working from."
   ]
  },
  {
   "cell_type": "code",
   "execution_count": 89,
   "metadata": {},
   "outputs": [
    {
     "name": "stdout",
     "output_type": "stream",
     "text": [
      "1-code-for-America-playbook.md   5-hackathon-playbook-external.md\r\n",
      "2-mlh.md                         6-health-hackathon-handbook.md\r\n",
      "3-open-data-day-dc.md            7-hackerearth.md\r\n",
      "4-civicwhitaker-anthology.md\r\n"
     ]
    }
   ],
   "source": [
    "!ls ../_guides/"
   ]
  },
  {
   "cell_type": "code",
   "execution_count": null,
   "metadata": {},
   "outputs": [],
   "source": [
    "!cat ../_guides/2009-10-01-paper-title-number-1.md"
   ]
  },
  {
   "cell_type": "code",
   "execution_count": null,
   "metadata": {},
   "outputs": [],
   "source": []
  }
 ],
 "metadata": {
  "kernelspec": {
   "display_name": "Python 3",
   "language": "python",
   "name": "python3"
  },
  "language_info": {
   "codemirror_mode": {
    "name": "ipython",
    "version": 3
   },
   "file_extension": ".py",
   "mimetype": "text/x-python",
   "name": "python",
   "nbconvert_exporter": "python",
   "pygments_lexer": "ipython3",
   "version": "3.7.6"
  }
 },
 "nbformat": 4,
 "nbformat_minor": 1
}
