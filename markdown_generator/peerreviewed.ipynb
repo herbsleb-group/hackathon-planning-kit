{
 "cells": [
  {
   "cell_type": "markdown",
   "metadata": {},
   "source": [
    "# Publications markdown generator for academicpages\n",
    "\n",
    "Takes a TSV of publications with metadata and converts them for use with [academicpages.github.io](academicpages.github.io). This is an interactive Jupyter notebook ([see more info here](http://jupyter-notebook-beginner-guide.readthedocs.io/en/latest/what_is_jupyter.html)). The core python code is also in `publications.py`. Run either from the `markdown_generator` folder after replacing `publications.tsv` with one containing your data.\n",
    "\n",
    "TODO: Make this work with BibTex and other databases of citations, rather than Stuart's non-standard TSV format and citation style.\n"
   ]
  },
  {
   "cell_type": "markdown",
   "metadata": {},
   "source": [
    "## Data format\n",
    "\n",
    "The TSV needs to have the following columns: pub_date, title, venue, excerpt, citation, site_url, and paper_url, with a header at the top. \n",
    "\n",
    "- `excerpt` and `paper_url` can be blank, but the others must have values. \n",
    "- `pub_date` must be formatted as YYYY-MM-DD.\n",
    "- `url_slug` will be the descriptive part of the .md file and the permalink URL for the page about the paper. The .md file will be `YYYY-MM-DD-[url_slug].md` and the permalink will be `https://[yourdomain]/publications/YYYY-MM-DD-[url_slug]`\n",
    "\n",
    "This is how the raw file looks (it doesn't look pretty, use a spreadsheet or other program to edit and create)."
   ]
  },
  {
   "cell_type": "code",
   "execution_count": 116,
   "metadata": {},
   "outputs": [
    {
     "name": "stdout",
     "output_type": "stream",
     "text": [
      "pub_date\ttitle\tvenue\texcerpt\tcitation\turl_slug\tpaper_url\r",
      "\r\n",
      "2019-06-12\tDoes it matter why we hack?: - Exploring the impact of goal alignment in hackathons\tECSCW'19\t\"Time-bounded events such as hackathons have become increasingly popular in recent years. During these events participants typically form teams, exercise fast prototype development, challenge themselves to innovate, practice new skills, collaborate with diverse team members, and compete against other teams. Hackathon organizers have a certain vision in mind about which outcome they would like to achieve and design the event based on this vision. Participants on the other hand do not necessarily share the same vision and come with their own goals and aspirations. While work in related fields suggests that it is important for goals of organizers and participants to align in order to achieve them this might be different in hackathons due to their unique setup. Drawing from literature we identified potential goals of organizers and participants and conducted a case study of three hackathons focusing on the alignment of goals between organizers and participants. Our findings indicate that the goals of organizers and participants did not align in all cases, that goal awareness on the part of the organizers appears may have a stronger impact on goal achievement and that hackathons appear to have inherent characteristics that can materialize even when not planned for.\"\t\"Medina Angarita, M. A., & Nolte, A. (2019). Does it matter why we hack? - Exploring the impact of goal alignment in hackathons. In <i>Proceedings of 17th European Conference on Computer-Supported Cooperative Work. European Society for Socially Embedded Technologies (EUSSET)</i> http://eipapa.github.io/hackathon-planning-kit/files/Nolte-ECSCW-2019.pdf.\"\tNolte-ECSCW-2019\thttp://eipapa.github.io/hackathon-planning-kit/files/Nolte-ECSCW-2019.pdf\r",
      "\r\n",
      "2017-07-20\tFrom Diversity by Numbers to Diversity as Process: Supporting Inclusiveness in Software Development Teams with Brainstorming\tICSE'17\t\"Negative experiences in diverse software development teams have the potential to turn off minority participants from future team-based software development activity. We examine the use of brainstorming as one concrete team processes that may be used to improve the satisfaction of minority developers when working in a group. Situating our study in time-intensive hackathon-like environments where engagement of all team members is particularly crucial, we use a combination of survey and interview data to test our propositions. We find that brainstorming strategies are particularly effective for team members who identify as minorities, and support satisfaction with both the process and outcomes of teamwork through different mechanisms.\"\t\"Filippova, A., Trainer, E., & Herbsleb, J. D. (2017, May). From diversity by numbers to diversity as process: supporting inclusiveness in software development teams with brainstorming. In <i>2017 IEEE/ACM 39th International Conference on Software Engineering (ICSE)</i> (pp. 152-163). IEEE. https://doi.org/10.1109/ICSE.2017.22\"\tFilippova-ICSE-2017\thttp://eipapa.github.io/hackathon-planning-kit/files/Filippova-ICSE--2017.pdf\r",
      "\r\n",
      "2016-02-01\t\"How to Hackathon: Socio-technical Tradeoffs in Brief, Intensive Collocation\"\tCSCW'16\t\"Hackathons are events where people who are not normally collocated converge for a few days to write code together. Hackathons, it seems, are everywhere. We know that long- term collocation helps advance technical work and facilitate enduring interpersonal relationships, but can similar benefits come from brief, hackathon-style collocation? How do participants spend their time preparing, working face-to- face, and following through these brief encounters? Do the activities participants select suggest a tradeoff between the social and technical benefits of collocation? We present results from a multiple-case study that suggest the way that hackathon-style collocation advances technical work varies across technical domain, community structure, and expertise of participants. Building social ties, in contrast, seems relatively constant across hackathons. Results from different hackathon team formation strategies suggest a tradeoff between advancing technical work and building social ties. Our findings have implications for technology support that needs to be in place for hackathons and for understanding the role of brief interludes of collocation in loosely-coupled, geographically distributed work.\"\t\"Trainer, E. H., Kalyanasundaram, A., Chaihirunkarn, C., & Herbsleb, J. D. (2016, February). How to hackathon: Socio-technical tradeoffs in brief, intensive collocation. In <i>Proceedings of the 19th ACM conference on computer-supported cooperative work & social computing</i> (pp. 1118-1130). https://doi.org/10.1145/2818048.2819946\"\tTrainer-CSCW-2016\thttp://eipapa.github.io/hackathon-planning-kit/files/Trainer-CSCW-2016.pdf\r",
      "\r\n",
      "2018-07-11\tDesigning Corporate Hackathons with a Purpose\tIEEE Software\t\"In hackathons, small teams work together over a specified period of time to complete a project of interest. Hackathons have become increasingly popular as a means to surface and prototype innovative and creative ideas for products, but their impact often goes beyond product innovation. Based on our empirical studies of 10 hackathons held by scientific communities, a corporation, and universities as well as the review of published literature, we discuss that hackathons can be organized around goals such as enriching social networks, facilitating collaborative learning, and workforce development. We also discuss design choices that can scaffold the organization of hackathons and their trade-offs. Design choices include identifying a suitable mixture of attendee skills, the selection process for projects and teams, and whether to hold a competitive or collaborative event. Hackathons can achieve multiple goals if designed carefully.\"\t\"Pe-Than, E.P.P., Nolte, A., Filippova, A., Bird, C., Scallen, S., and Herbsleb, J.D. (2018). Designing Corporate Hackathons with a Purpose. <i>IEEE Software, 36</i> (1), pp. 15-22. https://doi.org/10.1109/MS.2018.290110547 <br>http://eipapa.github.io/hack-research-mmistakes/files/Pethan-IEEESW-2018.pdf\"\tPethan-IEEESW-2018\thttp://eipapa.github.io/hackathon-planning-kit/files/Pethan-IEEESW-2018.pdf\r",
      "\r\n",
      "2018-11-01\tYou Hacked and Now What?: - Exploring Outcomes of a Corporate Hackathon\tPACM HCI CSCW'18\t\"Time bounded events such as hackathons, data dives, codefests, hack-days, sprints or edit-a-thons have increasingly gained attention from practitioners and researchers. Existing research, however, has mainly focused on the event itself, while potential outcomes of hackathons have received limited attention. Furthermore, most research around hackathons focuses on collegiate or civic events. Research around hackathons internal to tech companies, which are nearly ubiquitous, and present significant organizational, cultural, and managerial challenges, remains scarce. In this paper we address this gap by presenting findings from a case study of five teams which participated in a large scale corporate hackathon. Most team members voiced their intentions to continue the projects their worked on during the hackathon, but those whose projects did get continued were characterized by meticulous preparation, a focus on executing a shared vision during the hackathon, extended dissemination activities afterwards and a fit to existing product lines. Such teams were led by individuals who perceived the hackathon as an opportunity to bring their idea to life and advance their careers, and who recruited teams who had a strong interest in the idea and in learning the skills necessary to contribute efficiently. Our analysis also revealed that individual team members perceived hackathon participation to have positive effects on their career parts, networks and skill development.\"\t\"Nolte, A., Pe-Than, E.P.P., Filippova, A., Bird, C., Scallen, S., and Herbsleb, J.D. (2018). You Hacked and Now What?: - Exploring Outcomes of a Corporate Hackathon. <i>In Proceedings of the ACM on Human Computer Interaction, 2 (CSCW'18), </i>Article 129, 23 pages. https://doi.org/10.1145/3274398 <br>http://eipapa.github.io/hackathon-planning-kit/files/Nolte-CSCW-2018.pdf\"\tNolte-CSCW-2018\thttp://eipapa.github.io/hackathon-planning-kit/files/Nolte-CSCW-2018.pdf\r",
      "\r\n",
      "2019-03-13\t\"Understanding Hackathons for Science: Collaboration, Affordances, and Outcomes\"\tiConference'19\t\"Nowadays, hackathons have become a popular way of bringing people together to engage in brief, intensive collaborative work. Despite being a brief activity, being collocated with team members and focused on a task 'radical collocation' could improve collaboration of scientific software teams. Using a mixed-methods study of participants who attended two hackathons at Space Telescope Science Institute (STScI), we examined how hackathons can facilitate collaboration in scientific software teams which typically involve members from two different disciplines: science and software engineering. We found that hackathons created a focused interruption-free working environment in which team members were able to assess each other's skills, focus together on a single project and leverage opportunities to exchange knowledge with other collocated participants, thereby allowing technical work to advance more efficiently. This study suggests \"hacking\" as a new and productive form of collaborative work in scientific software production.\"\t\"Pe-Than, E.P.P. and Herbsleb, J.D. (2019). Understanding Hackathons for Science: Collaboration, Affordances, and Outcomes. In<i> Taylor N., Christian-Lamb C., Martin M., Nardi B. (eds) Information in Contemporary Society, iConference'19. Lecture Notes in Computer Science, vol 1142 (iConference'19), </i>pp. 27-37. Springer, Cham. https://doi.org/10.1007/978-3-030-15742-5_3 <br>http://eipapa.github.io/hackathon-planning-kit/files/Pethan-iConference-2019.pdf\"\tPethan-iConference-2019\thttp://eipapa.github.io/hackathon-planning-kit/files/Pethan-iConference-2019.pdf\r",
      "\r\n",
      "2014-07-04\tThe Big Effects of Short-term Effort: Mentorship and Code Integration in Open Source Scientific Software\tJournal of Open Research Software\t\"Scientific progress relies crucially on software, yet in practice there are significant challenges to scientific software production and maintenance. We conducted a case study of a bioinformatics software library called Biopython to investigate the promise of Google Summer of Code (GSoC), a program that pays students to work on open-source projects for the summer, for addressing these challenges. We find three positive outcomes of GSoC in the Biopython community: the addition of new features to the Biopython codebase, training, and personal development. We also find, however, that mentors face several challenges related to GSoC project selection and ranking. We believe that because GSoC provides an occasion to extend the software with capabilities that can be used to produce new knowledge, and to train successive generations of potential contributors to the software, it can play a vital role in the sustainability of open-source scientific software.\"\t\"Trainer, E. H., Chaihirunkarn C., & Herbsleb, J. D. (2014). The Big Effects of Short-term Efforts: Mentorship and Code Integration in Open Source Scientific Software. Journal of Open Research Software, 2(1): e18, pp. 1-5. http://dx.doi.org/10.5334/jors.bc\"\tTrainer-JORSW-2014\thttp://eipapa.github.io/hackathon-planning-kit/files/Trainer-JORSW-2014.pdf\r",
      "\r\n",
      "2014-11-09\tCommunity Code Engagements: Summer of Code & Hackathons for Community Building in Scientific Software\tGROUP'14\t\"Community code engagements, short-term, intensive software development event, are used by some scientific communities to create new software features and promote community building. But there is as yet little empirical support for their effectiveness. This paper presents a qualitative study of two types of community code engagements: Google Summer of Code (GSoC) and hackathons. We investigated the range of outcomes these engagements produce and the underlying practices that lead to these outcomes. In GSoC, the vision and experience of core members of the community influence project selection, and the intensive mentoring process facilitates creation of strong ties. Most GSoC projects result in stable features. The agenda setting phase of hackathons reveals high priority issues perceivedby the community. Social events among the relatively large numbers of participants over brief engagements tend to create weak ties. Most hackathons result in prototypes rather than finished tools. We discuss themes and tradeoffs that suggest directions for future empirical work around designing community code engagements.\"\t\"Trainer, E. H., Chaihirunkarn, C., Kalyanasundaram, A., & Herbsleb, J. D. (2014). Community Code Engagements: Summer of Code & Hackathons for Community Building in Scientific Software. Proceedings of the 18th International Conference on Supporting Group Work, 111-121.\"\tTrainer-GROUP-2014\thttp://eipapa.github.io/hackathon-planning-kit/files/Trainer-GROUP-2014.pdf\r",
      "\r\n",
      "2015-03-14\tFrom Personal Tool to Community Resource: What's the Extra Work and Who Will Do It?\tCSCW'15\t\"Sharing scientific data, software, and instruments is becoming increasingly common as science moves toward large-scale, distributed collaborations. Sharing these resources requires extra work to make them generally useful. Although we know much about the extra work associated with sharing data, we know little about the work associated with sharing contributions to software, even though software is of vital importance to nearly every scientific result. This paper presents a qualitative, interview-based study of the extra work that developers and end users of scientific software undertake. Our findings indicate that they conduct a rich set of extra work around community management, code maintenance, education and training, developer-user interaction, and foreseeing user needs. We identify several conditions under which they are likely to do this work, as well as design principles that can facilitate it. Our results have important implications for future empirical studies as well as funding policy.\"\t\"Trainer, E. H., Chaihirunkarn, C., Kalyanasundaram, A., & Herbsleb, J. D. (2015). From personal tool to community resource: What's the extra work and who will do it?. Proceedings of the 18th ACM Conference on Computer Supported Cooperative Work & Social Computing (pp. 417-430)\"\tTrainer-CSCW-2015\thttp://eipapa.github.io/hackathon-planning-kit/files/Trainer-CSCW-2015.pdf\r",
      "\r\n",
      "2017-05-20\tE-Mentoring for Software Engineering: a Socio-Technical Perspective\tICSE'17\t\"Mentoring is one of the most effective pedagogical tools, holding great promise for software engineering education. When done badly, however, it can lead to dysfunctional interpersonal relationships and may turn off mentees from careers in software engineering. In this qualitative interview-based study we examine how socio-technical dimensions of software impact the formation of social ties important for satisfying two goals of mentorship, building technical skill and interpersonal development. We find that mentees working on user facing, interdependent software form a balance of ties that facilitate both goals, while mentees working on non-user facing software mostly form ties important for building technical skill. Work practices that create opportunities for unstructured contact between mentees and community members, such as code review in a mentee cohort, can help to overcome this imbalance. Our findings have important implications for task definition in software engineering e-mentoring program schemes.\"\t\"Trainer, E. H., Kalyanasundaram, A., & Herbsleb, J. D. (2017). E-Mentoring for Software Engineering: a Socio-Technical Perspective. <i>The 2017 IEEE/ACM 39th International Conference on Software Engineering: Software Engineering Education and Training Track (ICSE-SEET)</i>, 107-116.\"\tTrainer-ICSE-2017\thttp://eipapa.github.io/hackathon-planning-kit/files/Trainer-ICSE-2017.pdf\r",
      "\r\n"
     ]
    }
   ],
   "source": [
    "!cat peerreviewed.tsv"
   ]
  },
  {
   "cell_type": "markdown",
   "metadata": {},
   "source": [
    "## Import pandas\n",
    "\n",
    "We are using the very handy pandas library for dataframes."
   ]
  },
  {
   "cell_type": "code",
   "execution_count": 117,
   "metadata": {},
   "outputs": [],
   "source": [
    "import pandas as pd"
   ]
  },
  {
   "cell_type": "markdown",
   "metadata": {},
   "source": [
    "## Import TSV\n",
    "\n",
    "Pandas makes this easy with the read_csv function. We are using a TSV, so we specify the separator as a tab, or `\\t`.\n",
    "\n",
    "I found it important to put this data in a tab-separated values format, because there are a lot of commas in this kind of data and comma-separated values can get messed up. However, you can modify the import statement, as pandas also has read_excel(), read_json(), and others."
   ]
  },
  {
   "cell_type": "code",
   "execution_count": 118,
   "metadata": {
    "scrolled": false
   },
   "outputs": [
    {
     "data": {
      "text/html": [
       "<div>\n",
       "<style scoped>\n",
       "    .dataframe tbody tr th:only-of-type {\n",
       "        vertical-align: middle;\n",
       "    }\n",
       "\n",
       "    .dataframe tbody tr th {\n",
       "        vertical-align: top;\n",
       "    }\n",
       "\n",
       "    .dataframe thead th {\n",
       "        text-align: right;\n",
       "    }\n",
       "</style>\n",
       "<table border=\"1\" class=\"dataframe\">\n",
       "  <thead>\n",
       "    <tr style=\"text-align: right;\">\n",
       "      <th></th>\n",
       "      <th>pub_date</th>\n",
       "      <th>title</th>\n",
       "      <th>venue</th>\n",
       "      <th>excerpt</th>\n",
       "      <th>citation</th>\n",
       "      <th>url_slug</th>\n",
       "      <th>paper_url</th>\n",
       "    </tr>\n",
       "  </thead>\n",
       "  <tbody>\n",
       "    <tr>\n",
       "      <th>0</th>\n",
       "      <td>2019-06-12</td>\n",
       "      <td>Does it matter why we hack?: - Exploring the i...</td>\n",
       "      <td>ECSCW'19</td>\n",
       "      <td>Time-bounded events such as hackathons have be...</td>\n",
       "      <td>Medina Angarita, M. A., &amp; Nolte, A. (2019). Do...</td>\n",
       "      <td>Nolte-ECSCW-2019</td>\n",
       "      <td>http://eipapa.github.io/hackathon-planning-kit...</td>\n",
       "    </tr>\n",
       "    <tr>\n",
       "      <th>1</th>\n",
       "      <td>2017-07-20</td>\n",
       "      <td>From Diversity by Numbers to Diversity as Proc...</td>\n",
       "      <td>ICSE'17</td>\n",
       "      <td>Negative experiences in diverse software devel...</td>\n",
       "      <td>Filippova, A., Trainer, E., &amp; Herbsleb, J. D. ...</td>\n",
       "      <td>Filippova-ICSE-2017</td>\n",
       "      <td>http://eipapa.github.io/hackathon-planning-kit...</td>\n",
       "    </tr>\n",
       "    <tr>\n",
       "      <th>2</th>\n",
       "      <td>2016-02-01</td>\n",
       "      <td>How to Hackathon: Socio-technical Tradeoffs in...</td>\n",
       "      <td>CSCW'16</td>\n",
       "      <td>Hackathons are events where people who are not...</td>\n",
       "      <td>Trainer, E. H., Kalyanasundaram, A., Chaihirun...</td>\n",
       "      <td>Trainer-CSCW-2016</td>\n",
       "      <td>http://eipapa.github.io/hackathon-planning-kit...</td>\n",
       "    </tr>\n",
       "    <tr>\n",
       "      <th>3</th>\n",
       "      <td>2018-07-11</td>\n",
       "      <td>Designing Corporate Hackathons with a Purpose</td>\n",
       "      <td>IEEE Software</td>\n",
       "      <td>In hackathons, small teams work together over ...</td>\n",
       "      <td>Pe-Than, E.P.P., Nolte, A., Filippova, A., Bir...</td>\n",
       "      <td>Pethan-IEEESW-2018</td>\n",
       "      <td>http://eipapa.github.io/hackathon-planning-kit...</td>\n",
       "    </tr>\n",
       "    <tr>\n",
       "      <th>4</th>\n",
       "      <td>2018-11-01</td>\n",
       "      <td>You Hacked and Now What?: - Exploring Outcomes...</td>\n",
       "      <td>PACM HCI CSCW'18</td>\n",
       "      <td>Time bounded events such as hackathons, data d...</td>\n",
       "      <td>Nolte, A., Pe-Than, E.P.P., Filippova, A., Bir...</td>\n",
       "      <td>Nolte-CSCW-2018</td>\n",
       "      <td>http://eipapa.github.io/hackathon-planning-kit...</td>\n",
       "    </tr>\n",
       "    <tr>\n",
       "      <th>5</th>\n",
       "      <td>2019-03-13</td>\n",
       "      <td>Understanding Hackathons for Science: Collabor...</td>\n",
       "      <td>iConference'19</td>\n",
       "      <td>Nowadays, hackathons have become a popular way...</td>\n",
       "      <td>Pe-Than, E.P.P. and Herbsleb, J.D. (2019). Und...</td>\n",
       "      <td>Pethan-iConference-2019</td>\n",
       "      <td>http://eipapa.github.io/hackathon-planning-kit...</td>\n",
       "    </tr>\n",
       "    <tr>\n",
       "      <th>6</th>\n",
       "      <td>2014-07-04</td>\n",
       "      <td>The Big Effects of Short-term Effort: Mentorsh...</td>\n",
       "      <td>Journal of Open Research Software</td>\n",
       "      <td>Scientific progress relies crucially on softwa...</td>\n",
       "      <td>Trainer, E. H., Chaihirunkarn C., &amp; Herbsleb, ...</td>\n",
       "      <td>Trainer-JORSW-2014</td>\n",
       "      <td>http://eipapa.github.io/hackathon-planning-kit...</td>\n",
       "    </tr>\n",
       "    <tr>\n",
       "      <th>7</th>\n",
       "      <td>2014-11-09</td>\n",
       "      <td>Community Code Engagements: Summer of Code &amp; H...</td>\n",
       "      <td>GROUP'14</td>\n",
       "      <td>Community code engagements, short-term, intens...</td>\n",
       "      <td>Trainer, E. H., Chaihirunkarn, C., Kalyanasund...</td>\n",
       "      <td>Trainer-GROUP-2014</td>\n",
       "      <td>http://eipapa.github.io/hackathon-planning-kit...</td>\n",
       "    </tr>\n",
       "    <tr>\n",
       "      <th>8</th>\n",
       "      <td>2015-03-14</td>\n",
       "      <td>From Personal Tool to Community Resource: What...</td>\n",
       "      <td>CSCW'15</td>\n",
       "      <td>Sharing scientific data, software, and instrum...</td>\n",
       "      <td>Trainer, E. H., Chaihirunkarn, C., Kalyanasund...</td>\n",
       "      <td>Trainer-CSCW-2015</td>\n",
       "      <td>http://eipapa.github.io/hackathon-planning-kit...</td>\n",
       "    </tr>\n",
       "    <tr>\n",
       "      <th>9</th>\n",
       "      <td>2017-05-20</td>\n",
       "      <td>E-Mentoring for Software Engineering: a Socio-...</td>\n",
       "      <td>ICSE'17</td>\n",
       "      <td>Mentoring is one of the most effective pedagog...</td>\n",
       "      <td>Trainer, E. H., Kalyanasundaram, A., &amp; Herbsle...</td>\n",
       "      <td>Trainer-ICSE-2017</td>\n",
       "      <td>http://eipapa.github.io/hackathon-planning-kit...</td>\n",
       "    </tr>\n",
       "  </tbody>\n",
       "</table>\n",
       "</div>"
      ],
      "text/plain": [
       "     pub_date                                              title  \\\n",
       "0  2019-06-12  Does it matter why we hack?: - Exploring the i...   \n",
       "1  2017-07-20  From Diversity by Numbers to Diversity as Proc...   \n",
       "2  2016-02-01  How to Hackathon: Socio-technical Tradeoffs in...   \n",
       "3  2018-07-11      Designing Corporate Hackathons with a Purpose   \n",
       "4  2018-11-01  You Hacked and Now What?: - Exploring Outcomes...   \n",
       "5  2019-03-13  Understanding Hackathons for Science: Collabor...   \n",
       "6  2014-07-04  The Big Effects of Short-term Effort: Mentorsh...   \n",
       "7  2014-11-09  Community Code Engagements: Summer of Code & H...   \n",
       "8  2015-03-14  From Personal Tool to Community Resource: What...   \n",
       "9  2017-05-20  E-Mentoring for Software Engineering: a Socio-...   \n",
       "\n",
       "                               venue  \\\n",
       "0                           ECSCW'19   \n",
       "1                            ICSE'17   \n",
       "2                            CSCW'16   \n",
       "3                      IEEE Software   \n",
       "4                   PACM HCI CSCW'18   \n",
       "5                     iConference'19   \n",
       "6  Journal of Open Research Software   \n",
       "7                           GROUP'14   \n",
       "8                            CSCW'15   \n",
       "9                            ICSE'17   \n",
       "\n",
       "                                             excerpt  \\\n",
       "0  Time-bounded events such as hackathons have be...   \n",
       "1  Negative experiences in diverse software devel...   \n",
       "2  Hackathons are events where people who are not...   \n",
       "3  In hackathons, small teams work together over ...   \n",
       "4  Time bounded events such as hackathons, data d...   \n",
       "5  Nowadays, hackathons have become a popular way...   \n",
       "6  Scientific progress relies crucially on softwa...   \n",
       "7  Community code engagements, short-term, intens...   \n",
       "8  Sharing scientific data, software, and instrum...   \n",
       "9  Mentoring is one of the most effective pedagog...   \n",
       "\n",
       "                                            citation                 url_slug  \\\n",
       "0  Medina Angarita, M. A., & Nolte, A. (2019). Do...         Nolte-ECSCW-2019   \n",
       "1  Filippova, A., Trainer, E., & Herbsleb, J. D. ...      Filippova-ICSE-2017   \n",
       "2  Trainer, E. H., Kalyanasundaram, A., Chaihirun...        Trainer-CSCW-2016   \n",
       "3  Pe-Than, E.P.P., Nolte, A., Filippova, A., Bir...       Pethan-IEEESW-2018   \n",
       "4  Nolte, A., Pe-Than, E.P.P., Filippova, A., Bir...          Nolte-CSCW-2018   \n",
       "5  Pe-Than, E.P.P. and Herbsleb, J.D. (2019). Und...  Pethan-iConference-2019   \n",
       "6  Trainer, E. H., Chaihirunkarn C., & Herbsleb, ...       Trainer-JORSW-2014   \n",
       "7  Trainer, E. H., Chaihirunkarn, C., Kalyanasund...       Trainer-GROUP-2014   \n",
       "8  Trainer, E. H., Chaihirunkarn, C., Kalyanasund...        Trainer-CSCW-2015   \n",
       "9  Trainer, E. H., Kalyanasundaram, A., & Herbsle...        Trainer-ICSE-2017   \n",
       "\n",
       "                                           paper_url  \n",
       "0  http://eipapa.github.io/hackathon-planning-kit...  \n",
       "1  http://eipapa.github.io/hackathon-planning-kit...  \n",
       "2  http://eipapa.github.io/hackathon-planning-kit...  \n",
       "3  http://eipapa.github.io/hackathon-planning-kit...  \n",
       "4  http://eipapa.github.io/hackathon-planning-kit...  \n",
       "5  http://eipapa.github.io/hackathon-planning-kit...  \n",
       "6  http://eipapa.github.io/hackathon-planning-kit...  \n",
       "7  http://eipapa.github.io/hackathon-planning-kit...  \n",
       "8  http://eipapa.github.io/hackathon-planning-kit...  \n",
       "9  http://eipapa.github.io/hackathon-planning-kit...  "
      ]
     },
     "execution_count": 118,
     "metadata": {},
     "output_type": "execute_result"
    }
   ],
   "source": [
    "publications = pd.read_csv(\"peerreviewed.tsv\", sep=\"\\t\", header=0)\n",
    "publications\n"
   ]
  },
  {
   "cell_type": "markdown",
   "metadata": {},
   "source": [
    "## Escape special characters\n",
    "\n",
    "YAML is very picky about how it takes a valid string, so we are replacing single and double quotes (and ampersands) with their HTML encoded equivilents. This makes them look not so readable in raw format, but they are parsed and rendered nicely."
   ]
  },
  {
   "cell_type": "code",
   "execution_count": 119,
   "metadata": {},
   "outputs": [],
   "source": [
    "html_escape_table = {\n",
    "    \"&\": \"&amp;\",\n",
    "    '\"': \"&quot;\",\n",
    "    \"'\": \"&apos;\"\n",
    "    }\n",
    "\n",
    "def html_escape(text):\n",
    "    \"\"\"Produce entities within text.\"\"\"\n",
    "    return \"\".join(html_escape_table.get(c,c) for c in text)"
   ]
  },
  {
   "cell_type": "markdown",
   "metadata": {},
   "source": [
    "## Creating the markdown files\n",
    "\n",
    "This is where the heavy lifting is done. This loops through all the rows in the TSV dataframe, then starts to concatentate a big string (```md```) that contains the markdown for each type. It does the YAML metadata first, then does the description for the individual page."
   ]
  },
  {
   "cell_type": "code",
   "execution_count": 120,
   "metadata": {},
   "outputs": [],
   "source": [
    "import os\n",
    "for row, item in publications.iterrows():\n",
    "    \n",
    "    md_filename = str(item.pub_date) + \"-\" + item.url_slug + \".md\"\n",
    "    html_filename = str(item.pub_date) + \"-\" + item.url_slug\n",
    "    year = item.pub_date[:4]\n",
    "    \n",
    "    ## YAML variables\n",
    "    \n",
    "    md = \"---\\ntitle: \\\"\"   + item.title + '\"\\n'\n",
    "    md += \"\"\"collection: peerreviewed\"\"\"\n",
    "    md += \"\"\"\\npermalink: /peerreviewed/\"\"\" + html_filename\n",
    "    if len(str(item.excerpt)) > 5:\n",
    "        md += \"\\nexcerpt: '\" + html_escape(item.excerpt) + \"'\"\n",
    "    md += \"\\ndate: \" + str(item.pub_date) \n",
    "    md += \"\\nvenue: '\" + html_escape(item.venue) + \"'\"    \n",
    "#     if len(str(item.paper_url)) > 5:\n",
    "#         md += \"\\npaperurl: '\" + item.paper_url + \"'\"\n",
    "#     md += \"\\ncitation: '\" + html_escape(item.citation) + \"'\"\n",
    "    md += \"\\n---\"\n",
    "    \n",
    "    ## Markdown description for individual page\n",
    "        \n",
    "    if len(str(item.paper_url)) > 5:\n",
    "#         md += \"\\n[<span style=\\\"color: #c41e3a\\\">Download PDF here.</span>](\" + item.paper_url + \")\\n\"\n",
    "        md += \"\\n[Download PDF here.](\" + item.paper_url + \")\\n\"\n",
    "    if len(str(item.excerpt)) > 5:\n",
    "        md += \"\\n**Abstract**:\" + html_escape(item.excerpt) + \"\\n\"    \n",
    "#     md += \"\\nAbstract: \" + html_escape(item.description) + \"\\n\"\n",
    "    md += \"\\n**Recommended citation**: \" + item.citation\n",
    "    md_filename = os.path.basename(md_filename)\n",
    "    with open(\"../_peerreviewed/\" + md_filename, 'w') as f:\n",
    "        f.write(md)"
   ]
  },
  {
   "cell_type": "markdown",
   "metadata": {},
   "source": [
    "These files are in the publications directory, one directory below where we're working from."
   ]
  },
  {
   "cell_type": "code",
   "execution_count": 121,
   "metadata": {},
   "outputs": [
    {
     "name": "stdout",
     "output_type": "stream",
     "text": [
      "2014-07-04-Trainer-JORSW-2014.md      2017-07-20-Filippova-ICSE-2017.md\r\n",
      "2014-11-09-Trainer-GROUP-2014.md      2018-07-11-Pethan-IEEESW-2018.md\r\n",
      "2015-03-14-Trainer-CSCW-2015.md       2018-11-01-Nolte-CSCW-2018.md\r\n",
      "2016-02-01-Trainer-CSCW-2016.md       2019-03-13-Pethan-iConference-2019.md\r\n",
      "2017-05-20-Trainer-ICSE-2017.md       2019-06-12-Nolte-ECSCW-2019.md\r\n"
     ]
    }
   ],
   "source": [
    "!ls ../_peerreviewed/"
   ]
  },
  {
   "cell_type": "code",
   "execution_count": null,
   "metadata": {},
   "outputs": [],
   "source": [
    "!cat ../_publications/2009-10-01-paper-title-number-1.md"
   ]
  },
  {
   "cell_type": "code",
   "execution_count": null,
   "metadata": {},
   "outputs": [],
   "source": []
  },
  {
   "cell_type": "code",
   "execution_count": null,
   "metadata": {},
   "outputs": [],
   "source": []
  }
 ],
 "metadata": {
  "kernelspec": {
   "display_name": "Python 3",
   "language": "python",
   "name": "python3"
  },
  "language_info": {
   "codemirror_mode": {
    "name": "ipython",
    "version": 3
   },
   "file_extension": ".py",
   "mimetype": "text/x-python",
   "name": "python",
   "nbconvert_exporter": "python",
   "pygments_lexer": "ipython3",
   "version": "3.7.6"
  }
 },
 "nbformat": 4,
 "nbformat_minor": 1
}
